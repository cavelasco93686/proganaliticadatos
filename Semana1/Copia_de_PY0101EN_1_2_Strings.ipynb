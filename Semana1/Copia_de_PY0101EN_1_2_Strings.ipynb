{
  "metadata": {
    "kernelspec": {
      "name": "python",
      "display_name": "Pyolite",
      "language": "python"
    },
    "language_info": {
      "codemirror_mode": {
        "name": "python",
        "version": 3
      },
      "file_extension": ".py",
      "mimetype": "text/x-python",
      "name": "python",
      "nbconvert_exporter": "python",
      "pygments_lexer": "ipython3",
      "version": "3.8"
    },
    "colab": {
      "name": "Copia de PY0101EN-1-2-Strings.ipynb",
      "provenance": [],
      "include_colab_link": true
    }
  },
  "nbformat_minor": 0,
  "nbformat": 4,
  "cells": [
    {
      "cell_type": "markdown",
      "metadata": {
        "id": "view-in-github",
        "colab_type": "text"
      },
      "source": [
        "<a href=\"https://colab.research.google.com/github/cavelasco93686/proganaliticadatos/blob/main/Semana1/Copia_de_PY0101EN_1_2_Strings.ipynb\" target=\"_parent\"><img src=\"https://colab.research.google.com/assets/colab-badge.svg\" alt=\"Open In Colab\"/></a>"
      ]
    },
    {
      "cell_type": "markdown",
      "source": [
        "<center>\n",
        "    <img src=\"https://cf-courses-data.s3.us.cloud-object-storage.appdomain.cloud/IBMDeveloperSkillsNetwork-PY0101EN-SkillsNetwork/IDSNlogo.png\" width=\"300\" alt=\"cognitiveclass.ai logo\"  />\n",
        "</center>\n",
        "\n",
        "# String Operations\n",
        "\n",
        "Estimated time needed: **15** minutes\n",
        "\n",
        "## Objectives\n",
        "\n",
        "After completing this lab you will be able to:\n",
        "\n",
        "*   Work with Strings\n",
        "*   Perform operations on String\n",
        "*   Manipulate Strings using indexing and escape sequences\n"
      ],
      "metadata": {
        "id": "BkCxCX8xQnlM"
      }
    },
    {
      "cell_type": "markdown",
      "source": [
        "<h2>Table of Contents</h2>\n",
        "<div class=\"alert alert-block alert-info\" style=\"margin-top: 20px\">\n",
        "    <ul>\n",
        "        <li>\n",
        "            <a href=\"https://#strings\">What are Strings?</a>\n",
        "        </li>\n",
        "        <li>\n",
        "            <a href=\"https://#index\">Indexing</a>\n",
        "            <ul>\n",
        "                <li><a href=\"https://neg/?utm_medium=Exinfluencer&utm_source=Exinfluencer&utm_content=000026UJ&utm_term=10006555&utm_id=NA-SkillsNetwork-Channel-SkillsNetworkCoursesIBMDeveloperSkillsNetworkPY0101ENSkillsNetwork19487395-2021-01-01\">Negative Indexing</a></li>\n",
        "                <li><a href=\"https://slice/?utm_medium=Exinfluencer&utm_source=Exinfluencer&utm_content=000026UJ&utm_term=10006555&utm_id=NA-SkillsNetwork-Channel-SkillsNetworkCoursesIBMDeveloperSkillsNetworkPY0101ENSkillsNetwork19487395-2021-01-01\">Slicing</a></li>\n",
        "                <li><a href=\"https://stride/?utm_medium=Exinfluencer&utm_source=Exinfluencer&utm_content=000026UJ&utm_term=10006555&utm_id=NA-SkillsNetwork-Channel-SkillsNetworkCoursesIBMDeveloperSkillsNetworkPY0101ENSkillsNetwork19487395-2021-01-01\">Stride</a></li>\n",
        "                <li><a href=\"https://concat/?utm_medium=Exinfluencer&utm_source=Exinfluencer&utm_content=000026UJ&utm_term=10006555&utm_id=NA-SkillsNetwork-Channel-SkillsNetworkCoursesIBMDeveloperSkillsNetworkPY0101ENSkillsNetwork19487395-2021-01-01\">Concatenate Strings</a></li>\n",
        "            </ul>\n",
        "        </li>\n",
        "        <li>\n",
        "            <a href=\"https://#escape\">Escape Sequences</a>\n",
        "        </li>\n",
        "        <li>\n",
        "            <a href=\"https://#operations\">String Operations</a>\n",
        "        </li>\n",
        "        <li>\n",
        "            <a href=\"https://#quiz\">Quiz on Strings</a>\n",
        "        </li>\n",
        "    </ul>\n",
        "\n",
        "</div>\n",
        "\n",
        "<hr>\n"
      ],
      "metadata": {
        "id": "KNcyOlINQnlX"
      }
    },
    {
      "cell_type": "markdown",
      "source": [
        "<h2 id=\"strings\">What are Strings?</h2>\n"
      ],
      "metadata": {
        "id": "5er3JPM8Qnla"
      }
    },
    {
      "cell_type": "markdown",
      "source": [
        "The following example shows a string contained within 2 quotation marks:\n"
      ],
      "metadata": {
        "id": "jesKqrKLQnlb"
      }
    },
    {
      "cell_type": "code",
      "source": [
        "# Use quotation marks for defining string\n",
        "\n",
        "\"Michael Jackson\""
      ],
      "metadata": {
        "id": "Jnv5OuL8Qnlc"
      },
      "execution_count": null,
      "outputs": []
    },
    {
      "cell_type": "markdown",
      "source": [
        "We can also use single quotation marks:\n"
      ],
      "metadata": {
        "id": "xsvMN6txQnlg"
      }
    },
    {
      "cell_type": "code",
      "source": [
        "# Use single quotation marks for defining string\n",
        "\n",
        "'Michael Jackson'"
      ],
      "metadata": {
        "id": "sCGeiZp7Qnli"
      },
      "execution_count": null,
      "outputs": []
    },
    {
      "cell_type": "markdown",
      "source": [
        "A string can be a combination of spaces and digits:\n"
      ],
      "metadata": {
        "id": "nzSaBaz4Qnlk"
      }
    },
    {
      "cell_type": "code",
      "source": [
        "# Digitals and spaces in string\n",
        "\n",
        "'1 2 3 4 5 6 '"
      ],
      "metadata": {
        "id": "EGLUXvV-Qnll"
      },
      "execution_count": null,
      "outputs": []
    },
    {
      "cell_type": "markdown",
      "source": [
        "A string can also be a combination of special characters :\n"
      ],
      "metadata": {
        "id": "0HZ2pQsmQnlo"
      }
    },
    {
      "cell_type": "code",
      "source": [
        "# Special characters in string\n",
        "\n",
        "'@#2_#]&*^%$'"
      ],
      "metadata": {
        "id": "Ybz8K6dsQnlp"
      },
      "execution_count": null,
      "outputs": []
    },
    {
      "cell_type": "markdown",
      "source": [
        "We can print our string using the print statement:\n"
      ],
      "metadata": {
        "id": "Rs-FTtW8Qnlr"
      }
    },
    {
      "cell_type": "code",
      "source": [
        "# Print the string\n",
        "\n",
        "print(\"hello!\")"
      ],
      "metadata": {
        "id": "95DzHAQOQnls"
      },
      "execution_count": null,
      "outputs": []
    },
    {
      "cell_type": "markdown",
      "source": [
        "We can bind or assign a string to another variable:\n"
      ],
      "metadata": {
        "id": "vKAHA3ioQnlt"
      }
    },
    {
      "cell_type": "code",
      "source": [
        "# Assign string to variable\n",
        "\n",
        "name = \"Michael Jackson\"\n",
        "name = \"Michael Jackson 2\""
      ],
      "metadata": {
        "id": "ljwAs88cQnlt"
      },
      "execution_count": null,
      "outputs": []
    },
    {
      "cell_type": "markdown",
      "source": [
        "<hr>\n"
      ],
      "metadata": {
        "id": "tf_JqCCnQnlv"
      }
    },
    {
      "cell_type": "markdown",
      "source": [
        "<h2 id=\"index\">Indexing</h2>\n"
      ],
      "metadata": {
        "id": "L7CfgiCrQnlv"
      }
    },
    {
      "cell_type": "markdown",
      "source": [
        "It is helpful to think of a string as an ordered sequence. Each element in the sequence can be accessed using an index represented by the array of numbers:\n"
      ],
      "metadata": {
        "id": "oz6MbN0sQnlw"
      }
    },
    {
      "cell_type": "markdown",
      "source": [
        "<img src=\"https://cf-courses-data.s3.us.cloud-object-storage.appdomain.cloud/IBMDeveloperSkillsNetwork-PY0101EN-SkillsNetwork/labs/Module%201/images/StringsIndex.png\" width=\"600\" align=\"center\" />\n"
      ],
      "metadata": {
        "id": "WfjSAICMQnlx"
      }
    },
    {
      "cell_type": "markdown",
      "source": [
        "The first index can be accessed as follows:\n"
      ],
      "metadata": {
        "id": "NcKv5sgMQnlx"
      }
    },
    {
      "cell_type": "markdown",
      "source": [
        "<hr/>\n",
        "<div class=\"alert alert-success alertsuccess\" style=\"margin-top: 20px\">\n",
        "[Tip]: Because indexing starts at 0, it means the first index is on the index 0.\n",
        "</div>\n",
        "<hr/>\n"
      ],
      "metadata": {
        "id": "MsSiwjeuQnly"
      }
    },
    {
      "cell_type": "code",
      "source": [
        "# Print the first element in the string\n",
        "\n",
        "print(name[0])"
      ],
      "metadata": {
        "id": "2iFQO0mfQnlz"
      },
      "execution_count": null,
      "outputs": []
    },
    {
      "cell_type": "markdown",
      "source": [
        "We can access index 6:\n"
      ],
      "metadata": {
        "id": "sLerEhHGQnl0"
      }
    },
    {
      "cell_type": "code",
      "source": [
        "# Print the element on index 6 in the string\n",
        "\n",
        "print(name[6])"
      ],
      "metadata": {
        "id": "-Iq_WVVZQnl0"
      },
      "execution_count": null,
      "outputs": []
    },
    {
      "cell_type": "markdown",
      "source": [
        "Moreover, we can access the 13th index:\n"
      ],
      "metadata": {
        "id": "UnjkFnUzQnl1"
      }
    },
    {
      "cell_type": "code",
      "source": [
        "# Print the element on the 13th index in the string\n",
        "\n",
        "print(name[13])"
      ],
      "metadata": {
        "id": "7gKY9-PLQnl2"
      },
      "execution_count": null,
      "outputs": []
    },
    {
      "cell_type": "markdown",
      "source": [
        "<h3 id=\"neg\">Negative Indexing</h3>\n"
      ],
      "metadata": {
        "id": "uO88ep-jQnl2"
      }
    },
    {
      "cell_type": "markdown",
      "source": [
        "We can also use negative indexing with strings:\n"
      ],
      "metadata": {
        "id": "xsEc_BuzQnl3"
      }
    },
    {
      "cell_type": "markdown",
      "source": [
        "<img src=\"https://cf-courses-data.s3.us.cloud-object-storage.appdomain.cloud/IBMDeveloperSkillsNetwork-PY0101EN-SkillsNetwork/labs/Module%201/images/StringsNeg.png\" width=\"600\" align=\"center\" />\n"
      ],
      "metadata": {
        "id": "YIuz_Y07Qnl4"
      }
    },
    {
      "cell_type": "markdown",
      "source": [
        "Negative index can help us to count the element from the end of the string.\n"
      ],
      "metadata": {
        "id": "3dRlj8-ZQnl4"
      }
    },
    {
      "cell_type": "markdown",
      "source": [
        "The last element is given by the index -1:\n"
      ],
      "metadata": {
        "id": "Ao_sakdmQnl5"
      }
    },
    {
      "cell_type": "code",
      "source": [
        "# Print the last element in the string\n",
        "\n",
        "print(name[-1])"
      ],
      "metadata": {
        "id": "krB7gp2ZQnl5"
      },
      "execution_count": null,
      "outputs": []
    },
    {
      "cell_type": "markdown",
      "source": [
        "The first element can be obtained by  index -15:\n"
      ],
      "metadata": {
        "id": "E4pUZX5yQnl6"
      }
    },
    {
      "cell_type": "code",
      "source": [
        "# Print the first element in the string\n",
        "\n",
        "print(name[-15])"
      ],
      "metadata": {
        "id": "kEkvOsJFQnl6"
      },
      "execution_count": null,
      "outputs": []
    },
    {
      "cell_type": "markdown",
      "source": [
        "We can find the number of characters in a string by using <code>len</code>, short for length:\n"
      ],
      "metadata": {
        "id": "-o2I3ZwZQnl7"
      }
    },
    {
      "cell_type": "code",
      "source": [
        "# Find the length of string\n",
        "\n",
        "len(\"Michael Jackson\")"
      ],
      "metadata": {
        "id": "36BUB-1CQnl7"
      },
      "execution_count": null,
      "outputs": []
    },
    {
      "cell_type": "markdown",
      "source": [
        "<h3 id=\"slice\">Slicing</h3>\n"
      ],
      "metadata": {
        "id": "JmYRM-e8Qnl8"
      }
    },
    {
      "cell_type": "markdown",
      "source": [
        "We can obtain multiple characters from a string using slicing, we can obtain the 0 to 4th and 8th to the 12th element:\n"
      ],
      "metadata": {
        "id": "BNd9GnGqQnl9"
      }
    },
    {
      "cell_type": "markdown",
      "source": [
        "<img src=\"https://cf-courses-data.s3.us.cloud-object-storage.appdomain.cloud/IBMDeveloperSkillsNetwork-PY0101EN-SkillsNetwork/labs/Module%201/images/StringsSlice.png\" width=\"600\" align=\"center\" />\n"
      ],
      "metadata": {
        "id": "VyXqqHrMQnl9"
      }
    },
    {
      "cell_type": "markdown",
      "source": [
        "<hr/>\n",
        "<div class=\"alert alert-success alertsuccess\" style=\"margin-top: 20px\">\n",
        "[Tip]: When taking the slice, the first number means the index (start at 0), and the second number means the length from the index to the last element you want (start at 1)\n",
        "</div>\n",
        "<hr/>\n"
      ],
      "metadata": {
        "id": "pvb6oLwwQnl-"
      }
    },
    {
      "cell_type": "code",
      "source": [
        "# Take the slice on variable name with only index 0 to index 3\n",
        "\n",
        "name[0:4]"
      ],
      "metadata": {
        "id": "zjlGWevnQnl-"
      },
      "execution_count": null,
      "outputs": []
    },
    {
      "cell_type": "code",
      "source": [
        "# Take the slice on variable name with only index 8 to index 11\n",
        "\n",
        "name[8:12]"
      ],
      "metadata": {
        "id": "EzlqjKwiQnl_"
      },
      "execution_count": null,
      "outputs": []
    },
    {
      "cell_type": "markdown",
      "source": [
        "<h3 id=\"stride\">Stride</h3>\n"
      ],
      "metadata": {
        "id": "ddgW4JftQnmA"
      }
    },
    {
      "cell_type": "markdown",
      "source": [
        "We can also  input a stride value as follows, with the '2' indicating that we are selecting every second variable:\n"
      ],
      "metadata": {
        "id": "Frb4HeI8QnmB"
      }
    },
    {
      "cell_type": "markdown",
      "source": [
        "<img src=\"https://cf-courses-data.s3.us.cloud-object-storage.appdomain.cloud/IBMDeveloperSkillsNetwork-PY0101EN-SkillsNetwork/labs/Module%201/images/StringsStride.png\" width=\"600\" align=\"center\" />\n"
      ],
      "metadata": {
        "id": "BeE3NcfuQnmB"
      }
    },
    {
      "cell_type": "code",
      "source": [
        "# Get every second element. The elments on index 1, 3, 5 ...\n",
        "\n",
        "name[::2]"
      ],
      "metadata": {
        "id": "QaUkTGbQQnmC"
      },
      "execution_count": null,
      "outputs": []
    },
    {
      "cell_type": "markdown",
      "source": [
        "We can also incorporate slicing  with the stride. In this case, we select the first five elements and then use the stride:\n"
      ],
      "metadata": {
        "id": "Q-waR2Z3QnmC"
      }
    },
    {
      "cell_type": "code",
      "source": [
        "# Get every second element in the range from index 0 to index 4\n",
        "\n",
        "name[0:5:2]"
      ],
      "metadata": {
        "id": "LE8CQ_EWQnmC"
      },
      "execution_count": null,
      "outputs": []
    },
    {
      "cell_type": "markdown",
      "source": [
        "<h3 id=\"concat\">Concatenate Strings</h3>\n"
      ],
      "metadata": {
        "id": "6q9hhIQIQnmD"
      }
    },
    {
      "cell_type": "markdown",
      "source": [
        "We can concatenate or combine strings by using the addition symbols, and the result is a new string that is a combination of both:\n"
      ],
      "metadata": {
        "id": "1dOwetTpQnmD"
      }
    },
    {
      "cell_type": "code",
      "source": [
        "# Concatenate two strings\n",
        "\n",
        "statement = name + \"is the best\"\n",
        "statement"
      ],
      "metadata": {
        "id": "Uc4Njk4rQnmE"
      },
      "execution_count": null,
      "outputs": []
    },
    {
      "cell_type": "markdown",
      "source": [
        "To replicate values of a string we simply multiply the string by the number of times we would like to replicate it. In this case, the number is three. The result is a new string, and this new string consists of three copies of the original string:\n"
      ],
      "metadata": {
        "id": "_yQq3vqKQnmE"
      }
    },
    {
      "cell_type": "code",
      "source": [
        "# Print the string for 3 times\n",
        "\n",
        "3 * \"Michael Jackson\""
      ],
      "metadata": {
        "id": "OWuhYq_nQnmF"
      },
      "execution_count": null,
      "outputs": []
    },
    {
      "cell_type": "markdown",
      "source": [
        "You can create a new string by setting it to the original variable. Concatenated  with a new string, the result is a new string that changes from Michael Jackson to “Michael Jackson is the best\".\n"
      ],
      "metadata": {
        "id": "1CjSIpETQnmF"
      }
    },
    {
      "cell_type": "code",
      "source": [
        "# Concatenate strings\n",
        "\n",
        "name = \"Michael Jackson\"\n",
        "name = name + \" is the best\"\n",
        "name"
      ],
      "metadata": {
        "id": "WOkcCTCPQnmG"
      },
      "execution_count": null,
      "outputs": []
    },
    {
      "cell_type": "markdown",
      "source": [
        "<hr>\n"
      ],
      "metadata": {
        "id": "s9ddw4zTQnmH"
      }
    },
    {
      "cell_type": "markdown",
      "source": [
        "<h2 id=\"escape\">Escape Sequences</h2>\n"
      ],
      "metadata": {
        "id": "snY9m-aCQnmH"
      }
    },
    {
      "cell_type": "markdown",
      "source": [
        "Back slashes represent the beginning  of escape sequences. Escape sequences represent strings that may be difficult to input. For example, back slash \"n\" represents a new line. The output is given by a new line after the back slash \"n\" is encountered:\n"
      ],
      "metadata": {
        "id": "M3kOrflrQnmI"
      }
    },
    {
      "cell_type": "code",
      "source": [
        "# New line escape sequence\n",
        "\n",
        "print(\" Michael Jackson \\n is the best\" )"
      ],
      "metadata": {
        "id": "Msn8ImWiQnmJ",
        "outputId": "1e93fcfb-bc98-4ed7-d07b-20ad84e0b7ce",
        "colab": {
          "base_uri": "https://localhost:8080/"
        }
      },
      "execution_count": null,
      "outputs": [
        {
          "output_type": "stream",
          "name": "stdout",
          "text": [
            " Michael Jackson \n",
            " is the best\n"
          ]
        }
      ]
    },
    {
      "cell_type": "markdown",
      "source": [
        "Similarly, back slash  \"t\" represents a tab:\n"
      ],
      "metadata": {
        "id": "F9Ed774bQnmJ"
      }
    },
    {
      "cell_type": "code",
      "source": [
        "# Tab escape sequence\n",
        "\n",
        "print(\" Michael Jackson \\t is the best\" )"
      ],
      "metadata": {
        "id": "GzJhsh6_QnmK",
        "outputId": "6ceea2eb-0742-41a6-e0d1-89f1e7fe36de",
        "colab": {
          "base_uri": "https://localhost:8080/"
        }
      },
      "execution_count": null,
      "outputs": [
        {
          "output_type": "stream",
          "name": "stdout",
          "text": [
            " Michael Jackson \t is the best\n"
          ]
        }
      ]
    },
    {
      "cell_type": "markdown",
      "source": [
        "If you want to place a back slash in your string, use a double back slash:\n"
      ],
      "metadata": {
        "id": "KW0lLZ4jQnmK"
      }
    },
    {
      "cell_type": "code",
      "source": [
        "# Include back slash in string\n",
        "\n",
        "print(\" Michael Jackson \\\\ is the best\" )"
      ],
      "metadata": {
        "id": "03jzfFv_QnmK",
        "outputId": "eca7a264-7621-46ec-8461-74b27417287b",
        "colab": {
          "base_uri": "https://localhost:8080/"
        }
      },
      "execution_count": null,
      "outputs": [
        {
          "output_type": "stream",
          "name": "stdout",
          "text": [
            " Michael Jackson \\ is the best\n"
          ]
        }
      ]
    },
    {
      "cell_type": "markdown",
      "source": [
        "We can also place an \"r\" before the string to display the backslash:\n"
      ],
      "metadata": {
        "id": "OQSgb4SgQnmL"
      }
    },
    {
      "cell_type": "code",
      "source": [
        "# r will tell python that string will be display as raw string\n",
        "\n",
        "print(r\" Michael Jackson \\ is the best\" )"
      ],
      "metadata": {
        "id": "eL5xiHS3QnmL",
        "outputId": "db0dc658-7339-4d87-ea6c-a76f8b8bc746",
        "colab": {
          "base_uri": "https://localhost:8080/"
        }
      },
      "execution_count": null,
      "outputs": [
        {
          "output_type": "stream",
          "name": "stdout",
          "text": [
            " Michael Jackson \\ is the best\n"
          ]
        }
      ]
    },
    {
      "cell_type": "markdown",
      "source": [
        "<hr>\n"
      ],
      "metadata": {
        "id": "4z-gaoRiQnmM"
      }
    },
    {
      "cell_type": "markdown",
      "source": [
        "<h2 id=\"operations\">String Operations</h2>\n"
      ],
      "metadata": {
        "id": "hvqceoRwQnmM"
      }
    },
    {
      "cell_type": "markdown",
      "source": [
        "There are many string operation methods in Python that can be used to manipulate the data. We are going to use some basic string operations on the data.\n"
      ],
      "metadata": {
        "id": "4-xHi_t6QnmN"
      }
    },
    {
      "cell_type": "markdown",
      "source": [
        "Let's try with the method <code>upper</code>; this method converts lower case characters to upper case characters:\n"
      ],
      "metadata": {
        "id": "hEqGw5EGQnmN"
      }
    },
    {
      "cell_type": "code",
      "source": [
        "# Convert all the characters in string to upper case\n",
        "\n",
        "a = \"Thriller is the sixth studio album\"\n",
        "print(\"before upper:\", a)\n",
        "b = a.upper()\n",
        "print(\"After upper:\", b)"
      ],
      "metadata": {
        "id": "99_3GSCTQnmN",
        "outputId": "460ca935-4733-47e8-d09a-8af07901cd33",
        "colab": {
          "base_uri": "https://localhost:8080/"
        }
      },
      "execution_count": null,
      "outputs": [
        {
          "output_type": "stream",
          "name": "stdout",
          "text": [
            "before upper: Thriller is the sixth studio album\n",
            "After upper: THRILLER IS THE SIXTH STUDIO ALBUM\n"
          ]
        }
      ]
    },
    {
      "cell_type": "markdown",
      "source": [
        "The method <code>replace</code> replaces a segment of the string, i.e. a substring  with a new string. We input the part of the string we would like to change. The second argument is what we would like to exchange the segment with, and the result is a new string with the segment changed:\n"
      ],
      "metadata": {
        "id": "Gp-uXaLbQnmO"
      }
    },
    {
      "cell_type": "code",
      "source": [
        "# Replace the old substring with the new target substring is the segment has been found in the string\n",
        "\n",
        "a = \"Michael Jackson is the best\"\n",
        "b = a.replace('Michael', 'Janet')\n",
        "b"
      ],
      "metadata": {
        "id": "DhekNMffQnmP",
        "outputId": "acd5375e-659d-4c1f-96ed-085a3b36e7f9",
        "colab": {
          "base_uri": "https://localhost:8080/",
          "height": 36
        }
      },
      "execution_count": null,
      "outputs": [
        {
          "output_type": "execute_result",
          "data": {
            "text/plain": [
              "'Janet Jackson is the best'"
            ],
            "application/vnd.google.colaboratory.intrinsic+json": {
              "type": "string"
            }
          },
          "metadata": {},
          "execution_count": 7
        }
      ]
    },
    {
      "cell_type": "markdown",
      "source": [
        "The method <code>find</code> finds a sub-string. The argument is the substring you would like to find, and the output is the first index of the sequence. We can find the sub-string <code>jack</code> or <code>el<code>.\n"
      ],
      "metadata": {
        "id": "wC6pixoYQnmP"
      }
    },
    {
      "cell_type": "markdown",
      "source": [
        "<img src=\"https://cf-courses-data.s3.us.cloud-object-storage.appdomain.cloud/IBMDeveloperSkillsNetwork-PY0101EN-SkillsNetwork/labs/Module%201/images/StringsFind.png\" width=\"600\" align=\"center\" />\n"
      ],
      "metadata": {
        "id": "1_eD9ycHQnmQ"
      }
    },
    {
      "cell_type": "code",
      "source": [
        "# Find the substring in the string. Only the index of the first elment of substring in string will be the output\n",
        "\n",
        "name = \"Michael Jackson\"\n",
        "name.find('el')"
      ],
      "metadata": {
        "id": "a09D54klQnmQ"
      },
      "execution_count": null,
      "outputs": []
    },
    {
      "cell_type": "code",
      "source": [
        "# Find the substring in the string.\n",
        "\n",
        "name.find('Jack')"
      ],
      "metadata": {
        "id": "M82kq0PCQnmR"
      },
      "execution_count": null,
      "outputs": []
    },
    {
      "cell_type": "markdown",
      "source": [
        "If the  sub-string is not in the string then the output is a negative one. For example, the string 'Jasdfasdasdf' is not a substring:\n"
      ],
      "metadata": {
        "id": "cx6JWiNjQnmR"
      }
    },
    {
      "cell_type": "code",
      "source": [
        "# If cannot find the substring in the string\n",
        "\n",
        "name.find('Jasdfasdasdf')"
      ],
      "metadata": {
        "id": "E0-O-mdCQnmS"
      },
      "execution_count": null,
      "outputs": []
    },
    {
      "cell_type": "markdown",
      "source": [
        "<hr>\n"
      ],
      "metadata": {
        "id": "rRdR4fPYQnmS"
      }
    },
    {
      "cell_type": "markdown",
      "source": [
        "<h2 id=\"quiz\">Quiz on Strings</h2>\n"
      ],
      "metadata": {
        "id": "VDsAG2P-QnmT"
      }
    },
    {
      "cell_type": "markdown",
      "source": [
        "What is the value of the variable <code>a</code> after the following code is executed?\n"
      ],
      "metadata": {
        "id": "T7kj0pLwQnmT"
      }
    },
    {
      "cell_type": "code",
      "source": [
        "# Write your code below and press Shift+Enter to execute \n",
        "\n",
        "a = \"1\"\n",
        "print(a)"
      ],
      "metadata": {
        "id": "LlTT6xXJQnmU",
        "outputId": "221fa57a-3f1d-42f7-9f94-8c9dffc0a5e6",
        "colab": {
          "base_uri": "https://localhost:8080/"
        }
      },
      "execution_count": null,
      "outputs": [
        {
          "output_type": "stream",
          "name": "stdout",
          "text": [
            "1\n"
          ]
        }
      ]
    },
    {
      "cell_type": "markdown",
      "source": [
        "<details><summary>Click here for the solution</summary>\n",
        "\n",
        "```python\n",
        "\"1\"\n",
        "\n",
        "```\n",
        "\n",
        "</details>\n"
      ],
      "metadata": {
        "id": "FHnzR5F9QnmU"
      }
    },
    {
      "cell_type": "markdown",
      "source": [
        "What is the value of the variable <code>b</code> after the following code is executed?\n"
      ],
      "metadata": {
        "id": "9EOTG-ypQnmU"
      }
    },
    {
      "cell_type": "code",
      "source": [
        "# Write your code below and press Shift+Enter to execute\n",
        "\n",
        "b = \"2\"\n",
        "#print (type(b))\n",
        "print(b)"
      ],
      "metadata": {
        "id": "iBxtvnH_QnmV",
        "outputId": "6c157e77-387d-45ab-ba1d-f38f1b9dcff9",
        "colab": {
          "base_uri": "https://localhost:8080/"
        }
      },
      "execution_count": null,
      "outputs": [
        {
          "output_type": "stream",
          "name": "stdout",
          "text": [
            "2\n"
          ]
        }
      ]
    },
    {
      "cell_type": "markdown",
      "source": [
        "<details><summary>Click here for the solution</summary>\n",
        "\n",
        "```python\n",
        "\"2\"\n",
        "\n",
        "```\n",
        "\n",
        "</details>\n"
      ],
      "metadata": {
        "id": "bFRFaPzCQnmV"
      }
    },
    {
      "cell_type": "markdown",
      "source": [
        "What is the value of the variable <code>c</code> after the following code is executed?\n"
      ],
      "metadata": {
        "id": "7f-hnZTUQnmW"
      }
    },
    {
      "cell_type": "code",
      "source": [
        "# Write your code below and press Shift+Enter to execute \n",
        "\n",
        "c = a + b\n",
        "print(c)"
      ],
      "metadata": {
        "id": "S2fJakcVQnmW",
        "outputId": "0fa7349f-d427-4ec2-b78e-184d49a323eb",
        "colab": {
          "base_uri": "https://localhost:8080/"
        }
      },
      "execution_count": null,
      "outputs": [
        {
          "output_type": "stream",
          "name": "stdout",
          "text": [
            "12\n"
          ]
        }
      ]
    },
    {
      "cell_type": "markdown",
      "source": [
        "<details><summary>Click here for the solution</summary>\n",
        "\n",
        "```python\n",
        "\"12\"\n",
        "\n",
        "```\n",
        "\n",
        "</details>\n"
      ],
      "metadata": {
        "id": "GJL932zjQnmW"
      }
    },
    {
      "cell_type": "markdown",
      "source": [
        "<hr>\n"
      ],
      "metadata": {
        "id": "MtE0O8lKQnmX"
      }
    },
    {
      "cell_type": "markdown",
      "source": [
        "Consider the variable <code>d</code> use slicing to print out the first three elements:\n"
      ],
      "metadata": {
        "id": "2LDZv2MuQnmX"
      }
    },
    {
      "cell_type": "code",
      "source": [
        "# Write your code below and press Shift+Enter to execute\n",
        "\n",
        "d = \"ABCDEFG\"\n",
        "print(d[:3])"
      ],
      "metadata": {
        "id": "KQBWxM9jQnmY",
        "outputId": "895365ca-c2b0-4161-e8a5-601b32e9797b",
        "colab": {
          "base_uri": "https://localhost:8080/"
        }
      },
      "execution_count": null,
      "outputs": [
        {
          "output_type": "stream",
          "name": "stdout",
          "text": [
            "ABC\n"
          ]
        }
      ]
    },
    {
      "cell_type": "markdown",
      "source": [
        "<details><summary>Click here for the solution</summary>\n",
        "\n",
        "```python\n",
        "print(d[:3]) \n",
        "\n",
        "# or \n",
        "\n",
        "print(d[0:3])\n",
        "\n",
        "```\n",
        "\n",
        "</details>\n"
      ],
      "metadata": {
        "id": "wDvfamDhQnmZ"
      }
    },
    {
      "cell_type": "markdown",
      "source": [
        "<hr>\n"
      ],
      "metadata": {
        "id": "NXGY-RxhQnmZ"
      }
    },
    {
      "cell_type": "markdown",
      "source": [
        "Use a stride value of 2 to print out every second character of the string <code>e</code>:\n"
      ],
      "metadata": {
        "id": "redCUhpAQnma"
      }
    },
    {
      "cell_type": "code",
      "source": [
        "# Write your code below and press Shift+Enter to execute\n",
        "\n",
        "e = 'clocrkr1e1c1t'\n",
        "print(e[::2])"
      ],
      "metadata": {
        "id": "7_DU6fvtQnma",
        "outputId": "4323a00d-b3d7-4024-decd-b931d8d09a46",
        "colab": {
          "base_uri": "https://localhost:8080/"
        }
      },
      "execution_count": null,
      "outputs": [
        {
          "output_type": "stream",
          "name": "stdout",
          "text": [
            "correct\n"
          ]
        }
      ]
    },
    {
      "cell_type": "markdown",
      "source": [
        "<details><summary>Click here for the solution</summary>\n",
        "\n",
        "```python\n",
        "print(e[::2])\n",
        "\n",
        "```\n",
        "\n",
        "</details>\n"
      ],
      "metadata": {
        "id": "09H955brQnmb"
      }
    },
    {
      "cell_type": "markdown",
      "source": [
        "<hr>\n"
      ],
      "metadata": {
        "id": "U3l9JoEFQnmb"
      }
    },
    {
      "cell_type": "markdown",
      "source": [
        "Print out a backslash:\n"
      ],
      "metadata": {
        "id": "rpc6YsjRQnmc"
      }
    },
    {
      "cell_type": "code",
      "source": [
        "# Write your code below and press Shift+Enter to execute\n",
        "print(r\"\\ \")"
      ],
      "metadata": {
        "id": "ITYeHgGbQnmc",
        "outputId": "de729e86-7c86-49b0-d304-5558a52417d2",
        "colab": {
          "base_uri": "https://localhost:8080/"
        }
      },
      "execution_count": null,
      "outputs": [
        {
          "output_type": "stream",
          "name": "stdout",
          "text": [
            "\\ \n"
          ]
        }
      ]
    },
    {
      "cell_type": "markdown",
      "source": [
        "<details><summary>Click here for the solution</summary>\n",
        "\n",
        "```python\n",
        "print(\"\\\\\\\\\\\\\")\n",
        "\n",
        "or\n",
        "\n",
        "print(r\"\\ \")\n",
        "\n",
        "```\n",
        "\n",
        "</details>\n"
      ],
      "metadata": {
        "id": "58H_4-UYQnmd"
      }
    },
    {
      "cell_type": "markdown",
      "source": [
        "<hr>\n"
      ],
      "metadata": {
        "id": "jixxFHl5Qnme"
      }
    },
    {
      "cell_type": "markdown",
      "source": [
        "Convert the variable <code>f</code> to uppercase:\n"
      ],
      "metadata": {
        "id": "obQ-gJiKQnme"
      }
    },
    {
      "cell_type": "code",
      "source": [
        "# Write your code below and press Shift+Enter to execute\n",
        "\n",
        "f = \"You are wrong\"\n",
        "f.upper()"
      ],
      "metadata": {
        "id": "25UtMWw4Qnme",
        "outputId": "ff1ca321-d8a9-481b-c2b2-780d272bd08e",
        "colab": {
          "base_uri": "https://localhost:8080/",
          "height": 36
        }
      },
      "execution_count": null,
      "outputs": [
        {
          "output_type": "execute_result",
          "data": {
            "text/plain": [
              "'YOU ARE WRONG'"
            ],
            "application/vnd.google.colaboratory.intrinsic+json": {
              "type": "string"
            }
          },
          "metadata": {},
          "execution_count": 5
        }
      ]
    },
    {
      "cell_type": "markdown",
      "source": [
        "<details><summary>Click here for the solution</summary>\n",
        "\n",
        "```python\n",
        "f.upper()\n",
        "\n",
        "```\n",
        "\n",
        "</details>\n"
      ],
      "metadata": {
        "id": "X5jRpTW9Qnmf"
      }
    },
    {
      "cell_type": "markdown",
      "source": [
        "<hr>\n"
      ],
      "metadata": {
        "id": "5BOk3z74Qnmf"
      }
    },
    {
      "cell_type": "markdown",
      "source": [
        "Consider the variable <code>g</code>, and find the first index of the sub-string <code>snow</code>:\n"
      ],
      "metadata": {
        "id": "Hi0eaj0oQnmg"
      }
    },
    {
      "cell_type": "code",
      "source": [
        "# Write your code below and press Shift+Enter to execute\n",
        "\n",
        "g = \"Mary had a little lamb Little lamb, little lamb Mary had a little lamb \\\n",
        "Its fleece was white as snow And everywhere that Mary went Mary went, Mary went \\\n",
        "Everywhere that Mary went The lamb was sure to go\"\n",
        "g.find(\"snow\")"
      ],
      "metadata": {
        "id": "NSzRI5rVQnmh",
        "outputId": "0c200dc2-0b4c-44c9-f58c-8739c9fa04cb",
        "colab": {
          "base_uri": "https://localhost:8080/"
        }
      },
      "execution_count": null,
      "outputs": [
        {
          "output_type": "execute_result",
          "data": {
            "text/plain": [
              "95"
            ]
          },
          "metadata": {},
          "execution_count": 6
        }
      ]
    },
    {
      "cell_type": "markdown",
      "source": [
        "<details><summary>Click here for the solution</summary>\n",
        "\n",
        "```python\n",
        "g.find(\"snow\")\n",
        "\n",
        "```\n",
        "\n",
        "</details>\n"
      ],
      "metadata": {
        "id": "x5jVSDrbQnmh"
      }
    },
    {
      "cell_type": "markdown",
      "source": [
        "In the variable <code>g</code>, replace the sub-string <code>Mary</code> with <code>Bob</code>:\n"
      ],
      "metadata": {
        "id": "OLz_uBjJQnmh"
      }
    },
    {
      "cell_type": "code",
      "source": [
        "# Write your code below and press Shift+Enter to execute\n",
        "g.replace(\"mary\",\"Bob\")"
      ],
      "metadata": {
        "id": "QJvr3zC2Qnmi"
      },
      "execution_count": null,
      "outputs": []
    },
    {
      "cell_type": "markdown",
      "source": [
        "<details><summary>Click here for the solution</summary>\n",
        "\n",
        "```python\n",
        "g.replace(\"Mary\", \"Bob\")\n",
        "\n",
        "```\n",
        "\n",
        "</details>\n"
      ],
      "metadata": {
        "id": "zXiqJDPCQnmi"
      }
    },
    {
      "cell_type": "markdown",
      "source": [
        "<hr>\n",
        "<h2>The last exercise!</h2>\n",
        "<p>Congratulations, you have completed your first lesson and hands-on lab in Python.\n",
        "<hr>\n"
      ],
      "metadata": {
        "id": "TTp519MIQnmj"
      }
    },
    {
      "cell_type": "markdown",
      "source": [
        "## Author\n",
        "\n",
        "<a href=\"https://www.linkedin.com/in/joseph-s-50398b136/?utm_medium=Exinfluencer&utm_source=Exinfluencer&utm_content=000026UJ&utm_term=10006555&utm_id=NA-SkillsNetwork-Channel-SkillsNetworkCoursesIBMDeveloperSkillsNetworkPY0101ENSkillsNetwork19487395-2021-01-01\" target=\"_blank\">Joseph Santarcangelo</a>\n",
        "\n",
        "## Change Log\n",
        "\n",
        "| Date (YYYY-MM-DD) | Version | Changed By | Change Description                  |\n",
        "| ----------------- | ------- | ---------- | ----------------------------------- |\n",
        "| 2022-01-10        | 2.1     | Malika     | Removed the readme for GitShare     |\n",
        "| 2020-11-11        | 2.1     | Aije       | Updated variable names to lowercase |\n",
        "| 2020-08-26        | 2.0     | Lavanya    | Moved lab to course repo in GitLab  |\n",
        "\n",
        "## <h3 align=\"center\"> © IBM Corporation 2020. All rights reserved. <h3/>\n"
      ],
      "metadata": {
        "id": "Bpb7vC4gQnmj"
      }
    }
  ]
}