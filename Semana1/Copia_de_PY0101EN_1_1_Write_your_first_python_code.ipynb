{
  "cells": [
    {
      "cell_type": "markdown",
      "metadata": {
        "id": "view-in-github",
        "colab_type": "text"
      },
      "source": [
        "<a href=\"https://colab.research.google.com/github/cavelasco93686/proganaliticadatos/blob/main/Semana1/Copia_de_PY0101EN_1_1_Write_your_first_python_code.ipynb\" target=\"_parent\"><img src=\"https://colab.research.google.com/assets/colab-badge.svg\" alt=\"Open In Colab\"/></a>"
      ]
    },
    {
      "cell_type": "markdown",
      "metadata": {
        "id": "4oX8xdD3IXh-"
      },
      "source": [
        "<p style=\"text-align:center\">\n",
        "    <a href=\"https://skills.network/?utm_medium=Exinfluencer&utm_source=Exinfluencer&utm_content=000026UJ&utm_term=10006555&utm_id=NA-SkillsNetwork-Channel-SkillsNetworkCoursesIBMDeveloperSkillsNetworkPY0101ENSkillsNetwork19487395-2022-01-01\" target=\"_blank\">\n",
        "    <img src=\"https://cf-courses-data.s3.us.cloud-object-storage.appdomain.cloud/assets/logos/SN_web_lightmode.png\" width=\"200\" alt=\"Skills Network Logo\"  />\n",
        "    </a>\n",
        "</p>\n",
        "\n",
        "# Writing Your First Python Code\n",
        "\n",
        "Estimated time needed: **25** minutes\n",
        "\n",
        "## Objectives\n",
        "\n",
        "After completing this lab you will be able to:\n",
        "\n",
        "*   Write basic code in Python\n",
        "*   Work with various types of data in Python\n",
        "*   Convert the data from one type to another\n",
        "*   Use expressions and variables to perform operations\n"
      ]
    },
    {
      "cell_type": "markdown",
      "metadata": {
        "id": "dMESzq8wIXiF"
      },
      "source": [
        "<h2>Table of Contents</h2>\n",
        "<div class=\"alert alert-block alert-info\" style=\"margin-top: 20px\">\n",
        "    <ul>\n",
        "        <li>\n",
        "            <a href=\"https://#hello\">Say \"Hello\" to the world in Python</a>\n",
        "            <ul>\n",
        "                <li><a href=\"https://version/?utm_medium=Exinfluencer&utm_source=Exinfluencer&utm_content=000026UJ&utm_term=10006555&utm_id=NA-SkillsNetwork-Channel-SkillsNetworkCoursesIBMDeveloperSkillsNetworkPY0101ENSkillsNetwork19487395-2022-01-01\">What version of Python are we using?</a></li>\n",
        "                <li><a href=\"https://comments/?utm_medium=Exinfluencer&utm_source=Exinfluencer&utm_content=000026UJ&utm_term=10006555&utm_id=NA-SkillsNetwork-Channel-SkillsNetworkCoursesIBMDeveloperSkillsNetworkPY0101ENSkillsNetwork19487395-2022-01-01\">Writing comments in Python</a></li>\n",
        "                <li><a href=\"https://errors/?utm_medium=Exinfluencer&utm_source=Exinfluencer&utm_content=000026UJ&utm_term=10006555&utm_id=NA-SkillsNetwork-Channel-SkillsNetworkCoursesIBMDeveloperSkillsNetworkPY0101ENSkillsNetwork19487395-2022-01-01\">Errors in Python</a></li>\n",
        "                <li><a href=\"https://python_error/?utm_medium=Exinfluencer&utm_source=Exinfluencer&utm_content=000026UJ&utm_term=10006555&utm_id=NA-SkillsNetwork-Channel-SkillsNetworkCoursesIBMDeveloperSkillsNetworkPY0101ENSkillsNetwork19487395-2022-01-01\">Does Python know about your error before it runs your code?</a></li>\n",
        "                <li><a href=\"https://exercise/?utm_medium=Exinfluencer&utm_source=Exinfluencer&utm_content=000026UJ&utm_term=10006555&utm_id=NA-SkillsNetwork-Channel-SkillsNetworkCoursesIBMDeveloperSkillsNetworkPY0101ENSkillsNetwork19487395-2022-01-01\">Exercise: Your First Program</a></li>\n",
        "            </ul>\n",
        "        </li>\n",
        "        <li>\n",
        "            <a href=\"https://#types_objects\">Types of objects in Python</a>\n",
        "            <ul>\n",
        "                <li><a href=\"https://int/?utm_medium=Exinfluencer&utm_source=Exinfluencer&utm_content=000026UJ&utm_term=10006555&utm_id=NA-SkillsNetwork-Channel-SkillsNetworkCoursesIBMDeveloperSkillsNetworkPY0101ENSkillsNetwork19487395-2022-01-01\">Integers</a></li>\n",
        "                <li><a href=\"https://float/?utm_medium=Exinfluencer&utm_source=Exinfluencer&utm_content=000026UJ&utm_term=10006555&utm_id=NA-SkillsNetwork-Channel-SkillsNetworkCoursesIBMDeveloperSkillsNetworkPY0101ENSkillsNetwork19487395-2022-01-01\">Floats</a></li>\n",
        "                <li><a href=\"https://convert/?utm_medium=Exinfluencer&utm_source=Exinfluencer&utm_content=000026UJ&utm_term=10006555&utm_id=NA-SkillsNetwork-Channel-SkillsNetworkCoursesIBMDeveloperSkillsNetworkPY0101ENSkillsNetwork19487395-2022-01-01\">Converting from one object type to a different object type</a></li>\n",
        "                <li><a href=\"https://bool/?utm_medium=Exinfluencer&utm_source=Exinfluencer&utm_content=000026UJ&utm_term=10006555&utm_id=NA-SkillsNetwork-Channel-SkillsNetworkCoursesIBMDeveloperSkillsNetworkPY0101ENSkillsNetwork19487395-2022-01-01\">Boolean data type</a></li>\n",
        "                <li><a href=\"https://exer_type/?utm_medium=Exinfluencer&utm_source=Exinfluencer&utm_content=000026UJ&utm_term=10006555&utm_id=NA-SkillsNetwork-Channel-SkillsNetworkCoursesIBMDeveloperSkillsNetworkPY0101ENSkillsNetwork19487395-2022-01-01\">Exercise: Types</a></li>\n",
        "            </ul>\n",
        "        </li>\n",
        "        <li>\n",
        "            <a href=\"https://#https://exp/?utm_medium=Exinfluencer&utm_source=Exinfluencer&utm_content=000026UJ&utm_term=10006555&utm_id=NA-SkillsNetwork-Channel-SkillsNetworkCoursesIBMDeveloperSkillsNetworkPY0101ENSkillsNetwork19487395-2022-01-01ressions\">Expressions and Variables</a>\n",
        "            <ul>\n",
        "                <li><a href=\"exp\">Expressions</a></li>\n",
        "                <li><a href=\"https://exer_exp/?utm_medium=Exinfluencer&utm_source=Exinfluencer&utm_content=000026UJ&utm_term=10006555&utm_id=NA-SkillsNetwork-Channel-SkillsNetworkCoursesIBMDeveloperSkillsNetworkPY0101ENSkillsNetwork19487395-2022-01-01\">Exercise: Expressions</a></li>\n",
        "                <li><a href=\"https://var/?utm_medium=Exinfluencer&utm_source=Exinfluencer&utm_content=000026UJ&utm_term=10006555&utm_id=NA-SkillsNetwork-Channel-SkillsNetworkCoursesIBMDeveloperSkillsNetworkPY0101ENSkillsNetwork19487395-2022-01-01\">Variables</a></li>\n",
        "                <li><a href=\"https://exer_exp_var/?utm_medium=Exinfluencer&utm_source=Exinfluencer&utm_content=000026UJ&utm_term=10006555&utm_id=NA-SkillsNetwork-Channel-SkillsNetworkCoursesIBMDeveloperSkillsNetworkPY0101ENSkillsNetwork19487395-2022-01-01\">Exercise: Expression and Variables in Python</a></li>\n",
        "            </ul>\n",
        "        </li>\n",
        "    </ul>\n",
        "    <p>\n",
        "        Estimated time needed: <strong>25 min</strong>\n",
        "    </p>\n",
        "</div>\n",
        "\n",
        "<hr>\n"
      ]
    },
    {
      "cell_type": "markdown",
      "metadata": {
        "id": "hp6XibBlIXiI"
      },
      "source": [
        "<h2 id=\"hello\">Say \"Hello\" to the world in Python</h2>\n"
      ]
    },
    {
      "cell_type": "markdown",
      "metadata": {
        "id": "FfBbV6hsIXiJ"
      },
      "source": [
        "When learning a new programming language, it is customary to start with an \"hello world\" example. As simple as it is, this one line of code will ensure that we know how to print a string in output and how to execute code within cells in a notebook.\n"
      ]
    },
    {
      "cell_type": "markdown",
      "metadata": {
        "id": "z6hKqqSnIXiK"
      },
      "source": [
        "<hr/>\n",
        "<div class=\"alert alert-success alertsuccess\" style=\"margin-top: 20px\">\n",
        "[Tip]: To execute the Python code in the code cell below, click on the cell to select it and press <kbd>Shift</kbd> + <kbd>Enter</kbd>.\n",
        "</div>\n",
        "<hr/>\n"
      ]
    },
    {
      "cell_type": "code",
      "execution_count": null,
      "metadata": {
        "id": "6gGkt4azIXiL",
        "outputId": "4c6f69c4-8cfc-4f8b-8026-1d64a1a5fba1",
        "colab": {
          "base_uri": "https://localhost:8080/"
        }
      },
      "outputs": [
        {
          "output_type": "stream",
          "name": "stdout",
          "text": [
            "Hello, Python!\n"
          ]
        }
      ],
      "source": [
        "# Try your first Python output\n",
        "\n",
        "print('Hello, Python!')"
      ]
    },
    {
      "cell_type": "markdown",
      "metadata": {
        "id": "ZMpaVrmiIXiN"
      },
      "source": [
        "After executing the cell above, you should see that Python prints <code>Hello, Python!</code>. Congratulations on running your first Python code!\n"
      ]
    },
    {
      "cell_type": "markdown",
      "metadata": {
        "id": "AAQVonvbIXiO"
      },
      "source": [
        "<hr/>\n",
        "<div class=\"alert alert-success alertsuccess\" style=\"margin-top: 20px\">\n",
        "    [Tip:] <code>print()</code> is a function. You passed the string <code>'Hello, Python!'</code> as an argument to instruct Python on what to print.\n",
        "</div>\n",
        "<hr/>\n"
      ]
    },
    {
      "cell_type": "markdown",
      "metadata": {
        "id": "_CzPYiayIXiP"
      },
      "source": [
        "<h3 id=\"version\">What version of Python are we using?</h3>\n"
      ]
    },
    {
      "cell_type": "markdown",
      "metadata": {
        "id": "0dGDr24BIXiQ"
      },
      "source": [
        "<p>\n",
        "    There are two popular versions of the Python programming language in use today: Python 2 and Python 3. The Python community has decided to move on from Python 2 to Python 3, and many popular libraries have announced that they will no longer support Python 2.\n",
        "</p>\n",
        "<p>\n",
        "    Since Python 3 is the future, in this course we will be using it exclusively. How do we know that our notebook is executed by a Python 3 runtime? We can look in the top-right hand corner of this notebook and see \"Python 3\".\n",
        "</p>\n",
        "<p>\n",
        "    We can also ask Python directly and obtain a detailed answer. Try executing the following code:\n",
        "</p>\n"
      ]
    },
    {
      "cell_type": "code",
      "execution_count": null,
      "metadata": {
        "id": "D81GIIVZIXiQ"
      },
      "outputs": [],
      "source": [
        "# Check the Python Version\n",
        "\n",
        "import sys\n",
        "print(sys.version)"
      ]
    },
    {
      "cell_type": "markdown",
      "metadata": {
        "id": "I2pg2Y8ZIXiR"
      },
      "source": [
        "<hr/>\n",
        "<div class=\"alert alert-success alertsuccess\" style=\"margin-top: 20px\">\n",
        "    [Tip:] <code>sys</code> is a built-in module that contains many system-specific parameters and functions, including the Python version in use. Before using it, we must explictly <code>import</code> it.\n",
        "</div>\n",
        "<hr/>\n"
      ]
    },
    {
      "cell_type": "markdown",
      "metadata": {
        "id": "qb9giXdLIXiR"
      },
      "source": [
        "<h3 id=\"comments\">Writing comments in Python</h3>\n"
      ]
    },
    {
      "cell_type": "markdown",
      "metadata": {
        "id": "Z-P0DUX7IXiS"
      },
      "source": [
        "<p>\n",
        "    In addition to writing code, note that it's always a good idea to add comments to your code. It will help others understand what you were trying to accomplish (the reason why you wrote a given snippet of code). Not only does this help <strong>other people</strong> understand your code, it can also serve as a reminder <strong>to you</strong> when you come back to it weeks or months later.</p>\n",
        "\n",
        "<p>\n",
        "    To write comments in Python, use the number symbol <code>#</code> before writing your comment. When you run your code, Python will ignore everything past the <code>#</code> on a given line.\n",
        "</p>\n"
      ]
    },
    {
      "cell_type": "code",
      "execution_count": null,
      "metadata": {
        "id": "UcOUOMecIXiS"
      },
      "outputs": [],
      "source": [
        "# Practice on writing comments\n",
        "\n",
        "print('Hello, Python!') # This line prints a string\n",
        "# print('Hi')"
      ]
    },
    {
      "cell_type": "markdown",
      "metadata": {
        "id": "ClUDGpjcIXiT"
      },
      "source": [
        "<p>\n",
        "    After executing the cell above, you should notice that <code>This line prints a string</code> did not appear in the output, because it was a comment (and thus ignored by Python).\n",
        "</p>\n",
        "<p>\n",
        "    The second line was also not executed because <code>print('Hi')</code> was preceded by the number sign (<code>#</code>) as well! Since this isn't an explanatory comment from the programmer, but an actual line of code, we might say that the programmer <em>commented out</em> that second line of code.\n",
        "</p>\n"
      ]
    },
    {
      "cell_type": "markdown",
      "metadata": {
        "id": "fi12cdHRIXiT"
      },
      "source": [
        "<h3 id=\"errors\">Errors in Python</h3>\n"
      ]
    },
    {
      "cell_type": "markdown",
      "metadata": {
        "id": "3xQ8dUjnIXiU"
      },
      "source": [
        "<p>Everyone makes mistakes. For many types of mistakes, Python will tell you that you have made a mistake by giving you an error message. It is important to read error messages carefully to really understand where you made a mistake and how you may go about correcting it.</p>\n",
        "<p>For example, if you spell <code>print</code> as <code>frint</code>, Python will display an error message. Give it a try:</p>\n"
      ]
    },
    {
      "cell_type": "code",
      "execution_count": null,
      "metadata": {
        "id": "9qgUXroKIXiU",
        "outputId": "b2736de6-7654-42a1-8d03-d99511c081ed",
        "colab": {
          "base_uri": "https://localhost:8080/"
        }
      },
      "outputs": [
        {
          "output_type": "stream",
          "name": "stdout",
          "text": [
            "Hello, Python!\n"
          ]
        }
      ],
      "source": [
        "# Print string as error message\n",
        "\n",
        "frint(\"Hello, Python!\")"
      ]
    },
    {
      "cell_type": "markdown",
      "metadata": {
        "id": "SxUFx_EAIXiV"
      },
      "source": [
        "<p>The error message tells you: \n",
        "<ol>\n",
        "    <li>where the error occurred (more useful in large notebook cells or scripts), and</li> \n",
        "    <li>what kind of error it was (NameError)</li> \n",
        "</ol>\n",
        "<p>Here, Python attempted to run the function <code>frint</code>, but could not determine what <code>frint</code> is since it's not a built-in function and it has not been previously defined by us either.</p>\n"
      ]
    },
    {
      "cell_type": "markdown",
      "metadata": {
        "id": "nfWK2zppIXiV"
      },
      "source": [
        "<p>\n",
        "    You'll notice that if we make a different type of mistake, by forgetting to close the string, we'll obtain a different error (i.e., a <code>SyntaxError</code>). Try it below:\n",
        "</p>\n"
      ]
    },
    {
      "cell_type": "code",
      "execution_count": null,
      "metadata": {
        "id": "MTFn9zXvIXiV"
      },
      "outputs": [],
      "source": [
        "# Try to see built-in error message\n",
        "\n",
        "print(\"Hello, Python!)"
      ]
    },
    {
      "cell_type": "markdown",
      "metadata": {
        "id": "BMsUIV0EIXiW"
      },
      "source": [
        "<h3 id=\"python_error\">Does Python know about your error before it runs your code?</h3>\n"
      ]
    },
    {
      "cell_type": "markdown",
      "metadata": {
        "id": "kMXc64jwIXiW"
      },
      "source": [
        "Python is what is called an <em>interpreted language</em>. Compiled languages examine your entire program at compile time, and are able to warn you about a whole class of errors prior to execution. In contrast, Python interprets your script line by line as it executes it. Python will stop executing the entire program when it encounters an error (unless the error is expected and handled by the programmer, a more advanced subject that we'll cover later on in this course).\n"
      ]
    },
    {
      "cell_type": "markdown",
      "metadata": {
        "id": "tfrx8GHoIXiX"
      },
      "source": [
        "Try to run the code in the cell below and see what happens:\n"
      ]
    },
    {
      "cell_type": "code",
      "execution_count": null,
      "metadata": {
        "id": "cYcBkR4vIXiX"
      },
      "outputs": [],
      "source": [
        "# Print string and error to see the running order\n",
        "\n",
        "print(\"This will be printed\")\n",
        "frint(\"This will cause an error\")\n",
        "print(\"This will NOT be printed\")"
      ]
    },
    {
      "cell_type": "markdown",
      "metadata": {
        "id": "3dKYN2pEIXiX"
      },
      "source": [
        "<h3 id=\"exercise\">Exercise: Your First Program</h3>\n"
      ]
    },
    {
      "cell_type": "markdown",
      "metadata": {
        "id": "sdzb2UX_IXiX"
      },
      "source": [
        "<p>Generations of programmers have started their coding careers by simply printing \"Hello, world!\". You will be following in their footsteps.</p>\n",
        "<p>In the code cell below, use the <code>print()</code> function to print out the phrase: <code>Hello, world!</code></p>\n"
      ]
    },
    {
      "cell_type": "code",
      "execution_count": null,
      "metadata": {
        "id": "NzJWxfXPIXiY",
        "outputId": "69faff0f-fe29-4bb8-f006-b88da634bb21",
        "colab": {
          "base_uri": "https://localhost:8080/"
        }
      },
      "outputs": [
        {
          "output_type": "stream",
          "name": "stdout",
          "text": [
            "Hello, world!\n"
          ]
        }
      ],
      "source": [
        "# Write your code below. Don't forget to press Shift+Enter to execute the cell\n",
        "print('Hello, world!')"
      ]
    },
    {
      "cell_type": "markdown",
      "metadata": {
        "id": "VgyDWDaSIXiY"
      },
      "source": [
        "<details><summary>Click here for the solution</summary>\n",
        "\n",
        "```python\n",
        "print(\"Hello, world!\")\n",
        "\n",
        "```\n",
        "\n",
        "</details>\n"
      ]
    },
    {
      "cell_type": "markdown",
      "metadata": {
        "id": "PBalSEPfIXiY"
      },
      "source": [
        "<p>Now, let's enhance your code with a comment. In the code cell below, print out the phrase: <code>Hello, world!</code> and comment it with the phrase <code>Print the traditional hello world</code> all in one line of code.</p>\n"
      ]
    },
    {
      "cell_type": "code",
      "execution_count": null,
      "metadata": {
        "id": "71NY7GDGIXiY"
      },
      "outputs": [],
      "source": [
        "# Write your code below. Don't forget to press Shift+Enter to execute the cell\n",
        "print(\"Hello, world!\") # Print the traditional hello world in python"
      ]
    },
    {
      "cell_type": "markdown",
      "metadata": {
        "id": "p9uo9AxRIXiY"
      },
      "source": [
        "<details><summary>Click here for the solution</summary>\n",
        "\n",
        "```python\n",
        "print(\"Hello, world!\") # Print the traditional hello world\n",
        "\n",
        "```\n",
        "\n",
        "</details>\n"
      ]
    },
    {
      "cell_type": "markdown",
      "metadata": {
        "id": "JhYWF1aHIXiZ"
      },
      "source": [
        "<hr>\n"
      ]
    },
    {
      "cell_type": "markdown",
      "metadata": {
        "id": "-VfEkDiUIXiZ"
      },
      "source": [
        "<h2 id=\"types_objects\" align=\"center\">Types of objects in Python</h2>\n"
      ]
    },
    {
      "cell_type": "markdown",
      "metadata": {
        "id": "olovgauzIXiZ"
      },
      "source": [
        "<p>Python is an object-oriented language. There are many different types of objects in Python. Let's start with the most common object types: <i>strings</i>, <i>integers</i> and <i>floats</i>. Anytime you write words (text) in Python, you're using <i>character strings</i> (strings for short). The most common numbers, on the other hand, are <i>integers</i> (e.g. -1, 0, 100) and <i>floats</i>, which represent real numbers (e.g. 3.14, -42.0).</p>\n"
      ]
    },
    {
      "cell_type": "markdown",
      "metadata": {
        "id": "YAMIEwYXIXiZ"
      },
      "source": [
        "<a align=\"center\">\n",
        "    <img src=\"https://cf-courses-data.s3.us.cloud-object-storage.appdomain.cloud/IBMDeveloperSkillsNetwork-PY0101EN-SkillsNetwork/labs/Module%201/images/TypesObjects.png\" width=\"600\">\n",
        "</a>\n"
      ]
    },
    {
      "cell_type": "markdown",
      "metadata": {
        "id": "K5frrY01IXia"
      },
      "source": [
        "<p>The following code cells contain some examples.</p>\n"
      ]
    },
    {
      "cell_type": "code",
      "execution_count": null,
      "metadata": {
        "id": "JF7wT_PrIXia"
      },
      "outputs": [],
      "source": [
        "# Integer\n",
        "\n",
        "11"
      ]
    },
    {
      "cell_type": "code",
      "execution_count": null,
      "metadata": {
        "id": "PZDMqye6IXia"
      },
      "outputs": [],
      "source": [
        "# Float\n",
        "\n",
        "2.14"
      ]
    },
    {
      "cell_type": "code",
      "execution_count": null,
      "metadata": {
        "id": "Ypa72n8BIXib"
      },
      "outputs": [],
      "source": [
        "# String\n",
        "\n",
        "\"Hello, Python 101!\""
      ]
    },
    {
      "cell_type": "markdown",
      "metadata": {
        "id": "2uZKRbkVIXic"
      },
      "source": [
        "<p>You can get Python to tell you the type of an expression by using the built-in <code>type()</code> function. You'll notice that Python refers to integers as <code>int</code>, floats as <code>float</code>, and character strings as <code>str</code>.</p>\n"
      ]
    },
    {
      "cell_type": "code",
      "execution_count": null,
      "metadata": {
        "id": "-SjVS6J2IXic"
      },
      "outputs": [],
      "source": [
        "# Type of 12\n",
        "\n",
        "type(12)"
      ]
    },
    {
      "cell_type": "code",
      "execution_count": null,
      "metadata": {
        "id": "LL59CK4DIXid"
      },
      "outputs": [],
      "source": [
        "# Type of 2.14\n",
        "\n",
        "type(2.14)"
      ]
    },
    {
      "cell_type": "code",
      "execution_count": null,
      "metadata": {
        "id": "l-E55hrPIXid"
      },
      "outputs": [],
      "source": [
        "# Type of \"Hello, Python 101!\"\n",
        "\n",
        "type(\"Hello, Python 101!\")"
      ]
    },
    {
      "cell_type": "markdown",
      "metadata": {
        "id": "5nIl9hSSIXid"
      },
      "source": [
        "<p>In the code cell below, use the <code>type()</code> function to check the object type of <code>12.0</code>.\n"
      ]
    },
    {
      "cell_type": "code",
      "execution_count": null,
      "metadata": {
        "id": "NnsbPqX4IXie"
      },
      "outputs": [],
      "source": [
        "# Write your code below. Don't forget to press Shift+Enter to execute the cell\n"
      ]
    },
    {
      "cell_type": "markdown",
      "metadata": {
        "id": "ULEfYp5XIXie"
      },
      "source": [
        "<details><summary>Click here for the solution</summary>\n",
        "\n",
        "```python\n",
        "type(12.0)\n",
        "\n",
        "```\n",
        "\n",
        "</details>\n"
      ]
    },
    {
      "cell_type": "markdown",
      "metadata": {
        "id": "UkWbaNvlIXif"
      },
      "source": [
        "<h3 id=\"int\">Integers</h3>\n"
      ]
    },
    {
      "cell_type": "markdown",
      "metadata": {
        "id": "r8gVfFObIXif"
      },
      "source": [
        "<p>Here are some examples of integers. Integers can be negative or positive numbers:</p>\n"
      ]
    },
    {
      "cell_type": "markdown",
      "metadata": {
        "id": "MyXT42rSIXif"
      },
      "source": [
        "<a align=\"center\">\n",
        "    <img src=\"https://cf-courses-data.s3.us.cloud-object-storage.appdomain.cloud/IBMDeveloperSkillsNetwork-PY0101EN-SkillsNetwork/labs/Module%201/images/TypesInt.png\" width=\"600\">\n",
        "</a>\n"
      ]
    },
    {
      "cell_type": "markdown",
      "metadata": {
        "id": "JLE01onLIXif"
      },
      "source": [
        "<p>We can verify this is the case by using, you guessed it, the <code>type()</code> function:\n"
      ]
    },
    {
      "cell_type": "code",
      "execution_count": null,
      "metadata": {
        "id": "iWGg01xYIXif"
      },
      "outputs": [],
      "source": [
        "# Print the type of -1\n",
        "\n",
        "type(-1)"
      ]
    },
    {
      "cell_type": "code",
      "execution_count": null,
      "metadata": {
        "id": "54PNH0FGIXig"
      },
      "outputs": [],
      "source": [
        "# Print the type of 4\n",
        "\n",
        "type(4)"
      ]
    },
    {
      "cell_type": "code",
      "execution_count": null,
      "metadata": {
        "id": "MhzmvOMQIXig"
      },
      "outputs": [],
      "source": [
        "# Print the type of 0\n",
        "\n",
        "type(0)"
      ]
    },
    {
      "cell_type": "markdown",
      "metadata": {
        "id": "Ka_T697ZIXig"
      },
      "source": [
        "<h3 id=\"float\">Floats</h3> \n"
      ]
    },
    {
      "cell_type": "markdown",
      "metadata": {
        "id": "i73B_L7FIXig"
      },
      "source": [
        "<p>Floats represent real numbers; they are a superset of integer numbers but also include \"numbers with decimals\". There are some limitations when it comes to machines representing real numbers, but floating point numbers are a good representation in most cases. You can learn more about the specifics of floats for your runtime environment, by checking the value of <code>sys.float_info</code>. This will also tell you what's the largest and smallest number that can be represented with them.</p>\n",
        "\n",
        "<p>Once again, can test some examples with the <code>type()</code> function:\n"
      ]
    },
    {
      "cell_type": "code",
      "execution_count": null,
      "metadata": {
        "id": "Od6VTND3IXih"
      },
      "outputs": [],
      "source": [
        "# Print the type of 1.0\n",
        "\n",
        "type(1.0) # Notice that 1 is an int, and 1.0 is a float"
      ]
    },
    {
      "cell_type": "code",
      "execution_count": null,
      "metadata": {
        "id": "66-5z0RmIXih"
      },
      "outputs": [],
      "source": [
        "# Print the type of 0.5\n",
        "\n",
        "type(0.5)"
      ]
    },
    {
      "cell_type": "code",
      "execution_count": null,
      "metadata": {
        "id": "6Q08HO7cIXih"
      },
      "outputs": [],
      "source": [
        "# Print the type of 0.56\n",
        "\n",
        "type(0.56)"
      ]
    },
    {
      "cell_type": "code",
      "execution_count": null,
      "metadata": {
        "id": "MTwLQWsvIXih"
      },
      "outputs": [],
      "source": [
        "# System settings about float type\n",
        "\n",
        "sys.float_info"
      ]
    },
    {
      "cell_type": "markdown",
      "metadata": {
        "id": "_il9KlnSIXii"
      },
      "source": [
        "<h3 id=\"convert\">Converting from one object type to a different object type</h3>\n"
      ]
    },
    {
      "cell_type": "markdown",
      "metadata": {
        "id": "NMsMlqOOIXii"
      },
      "source": [
        "<p>You can change the type of the object in Python; this is called typecasting. For example, you can convert an <i>integer</i> into a <i>float</i> (e.g. 2 to 2.0).</p>\n",
        "<p>Let's try it:</p>\n"
      ]
    },
    {
      "cell_type": "code",
      "execution_count": null,
      "metadata": {
        "id": "_x3Rh2ivIXij"
      },
      "outputs": [],
      "source": [
        "# Verify that this is an integer\n",
        "\n",
        "type(2)"
      ]
    },
    {
      "cell_type": "markdown",
      "metadata": {
        "id": "VYY_t2y9IXik"
      },
      "source": [
        "<h4>Converting integers to floats</h4>\n",
        "<p>Let's cast integer 2 to float:</p>\n"
      ]
    },
    {
      "cell_type": "code",
      "execution_count": null,
      "metadata": {
        "id": "m0Ttptj5IXik"
      },
      "outputs": [],
      "source": [
        "# Convert 2 to a float\n",
        "\n",
        "float(2)"
      ]
    },
    {
      "cell_type": "code",
      "execution_count": null,
      "metadata": {
        "id": "JfSaGZCrIXil"
      },
      "outputs": [],
      "source": [
        "# Convert integer 2 to a float and check its type\n",
        "\n",
        "type(float(2))"
      ]
    },
    {
      "cell_type": "markdown",
      "metadata": {
        "id": "JlDHHpMHIXim"
      },
      "source": [
        "<p>When we convert an integer into a float, we don't really change the value (i.e., the significand) of the number. However, if we cast a float into an integer, we could potentially lose some information. For example, if we cast the float 1.1 to integer we will get 1 and lose the decimal information (i.e., 0.1):</p>\n"
      ]
    },
    {
      "cell_type": "code",
      "execution_count": null,
      "metadata": {
        "id": "xLe5y2qvIXim"
      },
      "outputs": [],
      "source": [
        "# Casting 1.1 to integer will result in loss of information\n",
        "\n",
        "int(1.1)"
      ]
    },
    {
      "cell_type": "markdown",
      "metadata": {
        "id": "-ban8GDnIXin"
      },
      "source": [
        "<h4>Converting from strings to integers or floats</h4>\n"
      ]
    },
    {
      "cell_type": "markdown",
      "metadata": {
        "id": "mCekhlFsIXin"
      },
      "source": [
        "<p>Sometimes, we can have a string that contains a number within it. If this is the case, we can cast that string that represents a number into an integer using <code>int()</code>:</p>\n"
      ]
    },
    {
      "cell_type": "code",
      "execution_count": null,
      "metadata": {
        "id": "ALLl2BF4IXin"
      },
      "outputs": [],
      "source": [
        "# Convert a string into an integer\n",
        "\n",
        "int('1')"
      ]
    },
    {
      "cell_type": "markdown",
      "metadata": {
        "id": "iqqtdr2cIXin"
      },
      "source": [
        "<p>But if you try to do so with a string that is not a perfect match for a number, you'll get an error. Try the following:</p>\n"
      ]
    },
    {
      "cell_type": "code",
      "execution_count": null,
      "metadata": {
        "id": "N56vikjBIXin"
      },
      "outputs": [],
      "source": [
        "# Convert a string into an integer with error\n",
        "\n",
        "int('1 or 2 people')"
      ]
    },
    {
      "cell_type": "markdown",
      "metadata": {
        "id": "SW-kg6DhIXio"
      },
      "source": [
        "<p>You can also convert strings containing floating point numbers into <i>float</i> objects:</p>\n"
      ]
    },
    {
      "cell_type": "code",
      "execution_count": null,
      "metadata": {
        "id": "3gAuDoflIXio"
      },
      "outputs": [],
      "source": [
        "# Convert the string \"1.2\" into a float\n",
        "\n",
        "float('1.2')"
      ]
    },
    {
      "cell_type": "markdown",
      "metadata": {
        "id": "gZYJXpTOIXio"
      },
      "source": [
        "<hr/>\n",
        "<div class=\"alert alert-success alertsuccess\" style=\"margin-top: 20px\">\n",
        "    [Tip:] Note that strings can be represented with single quotes (<code>'1.2'</code>) or double quotes (<code>\"1.2\"</code>), but you can't mix both (e.g., <code>\"1.2'</code>).\n",
        "</div>\n",
        "<hr/>\n"
      ]
    },
    {
      "cell_type": "markdown",
      "metadata": {
        "id": "Y54TepIoIXio"
      },
      "source": [
        "<h4>Converting numbers to strings</h4>\n"
      ]
    },
    {
      "cell_type": "markdown",
      "metadata": {
        "id": "JIw1a7F1IXio"
      },
      "source": [
        "<p>If we can convert strings to numbers, it is only natural to assume that we can convert numbers to strings, right?</p>\n"
      ]
    },
    {
      "cell_type": "code",
      "execution_count": null,
      "metadata": {
        "id": "ae_vEXMPIXip"
      },
      "outputs": [],
      "source": [
        "# Convert an integer to a string\n",
        "\n",
        "str(1)\n"
      ]
    },
    {
      "cell_type": "markdown",
      "metadata": {
        "id": "QYiAQ_qVIXip"
      },
      "source": [
        "<p>And there is no reason why we shouldn't be able to make floats into strings as well:</p> \n"
      ]
    },
    {
      "cell_type": "code",
      "execution_count": null,
      "metadata": {
        "id": "nGBFUkkEIXip"
      },
      "outputs": [],
      "source": [
        "# Convert a float to a string\n",
        "\n",
        "str(1.2)"
      ]
    },
    {
      "cell_type": "markdown",
      "metadata": {
        "id": "rLuAdJrzIXip"
      },
      "source": [
        "<h3 id=\"bool\">Boolean data type</h3>\n"
      ]
    },
    {
      "cell_type": "markdown",
      "metadata": {
        "id": "Twa74yehIXip"
      },
      "source": [
        "<p><i>Boolean</i> is another important type in Python. An object of type <i>Boolean</i> can take on one of two values: <code>True</code> or <code>False</code>:</p>\n"
      ]
    },
    {
      "cell_type": "code",
      "execution_count": null,
      "metadata": {
        "id": "0bif7TG_IXiq"
      },
      "outputs": [],
      "source": [
        "# Value true\n",
        "\n",
        "True"
      ]
    },
    {
      "cell_type": "markdown",
      "metadata": {
        "id": "tntWdep0IXiq"
      },
      "source": [
        "<p>Notice that the value <code>True</code> has an uppercase \"T\". The same is true for <code>False</code> (i.e. you must use the uppercase \"F\").</p>\n"
      ]
    },
    {
      "cell_type": "code",
      "execution_count": null,
      "metadata": {
        "id": "QFkTt2jCIXiq"
      },
      "outputs": [],
      "source": [
        "# Value false\n",
        "\n",
        "False"
      ]
    },
    {
      "cell_type": "markdown",
      "metadata": {
        "id": "WRA8hV1qIXiq"
      },
      "source": [
        "<p>When you ask Python to display the type of a boolean object it will show <code>bool</code> which stands for <i>boolean</i>:</p> \n"
      ]
    },
    {
      "cell_type": "code",
      "execution_count": null,
      "metadata": {
        "id": "ltmOozwdIXiq"
      },
      "outputs": [],
      "source": [
        "# Type of True\n",
        "\n",
        "type(True)"
      ]
    },
    {
      "cell_type": "code",
      "execution_count": null,
      "metadata": {
        "id": "Y1s0M9rfIXir"
      },
      "outputs": [],
      "source": [
        "# Type of False\n",
        "\n",
        "type(False)"
      ]
    },
    {
      "cell_type": "markdown",
      "metadata": {
        "id": "SElDEaG8IXir"
      },
      "source": [
        "<p>We can cast boolean objects to other data types. If we cast a boolean with a value of <code>True</code> to an integer or float we will get a one. If we cast a boolean with a value of <code>False</code> to an integer or float we will get a zero. Similarly, if we cast a 1 to a Boolean, you get a <code>True</code>. And if we cast a 0 to a Boolean we will get a <code>False</code>. Let's give it a try:</p> \n"
      ]
    },
    {
      "cell_type": "code",
      "execution_count": null,
      "metadata": {
        "id": "ZxSzLhzLIXir",
        "outputId": "7376e66b-246b-4d0c-b088-0b297e94a3ff",
        "colab": {
          "base_uri": "https://localhost:8080/"
        }
      },
      "outputs": [
        {
          "output_type": "execute_result",
          "data": {
            "text/plain": [
              "1"
            ]
          },
          "metadata": {},
          "execution_count": 1
        }
      ],
      "source": [
        "# Convert True to int\n",
        "\n",
        "int(True)"
      ]
    },
    {
      "cell_type": "code",
      "execution_count": null,
      "metadata": {
        "id": "e4fTGiSEIXix"
      },
      "outputs": [],
      "source": [
        "# Convert 1 to boolean\n",
        "\n",
        "bool(1)"
      ]
    },
    {
      "cell_type": "code",
      "execution_count": null,
      "metadata": {
        "id": "56AdQNF4IXix"
      },
      "outputs": [],
      "source": [
        "# Convert 0 to boolean\n",
        "\n",
        "bool(0)"
      ]
    },
    {
      "cell_type": "code",
      "execution_count": null,
      "metadata": {
        "id": "U3vLrOXeIXiy"
      },
      "outputs": [],
      "source": [
        "# Convert True to float\n",
        "\n",
        "float(True)"
      ]
    },
    {
      "cell_type": "markdown",
      "metadata": {
        "id": "kjEjy4yvIXi2"
      },
      "source": [
        "<h3 id=\"exer_type\">Exercise: Types</h3>\n"
      ]
    },
    {
      "cell_type": "markdown",
      "metadata": {
        "id": "VdWfFXREIXi3"
      },
      "source": [
        "<p>What is the data type of the result of: <code>6 / 2</code>?</p>\n"
      ]
    },
    {
      "cell_type": "code",
      "execution_count": null,
      "metadata": {
        "id": "37kp6UuRIXi4",
        "outputId": "d01cf359-99af-46c1-db21-e97c990fdc7f",
        "colab": {
          "base_uri": "https://localhost:8080/"
        }
      },
      "outputs": [
        {
          "output_type": "execute_result",
          "data": {
            "text/plain": [
              "float"
            ]
          },
          "metadata": {},
          "execution_count": 2
        }
      ],
      "source": [
        "# Write your code below. Don't forget to press Shift+Enter to execute the cell\n",
        "type(6/2)"
      ]
    },
    {
      "cell_type": "markdown",
      "metadata": {
        "id": "K2o9lSmAIXi4"
      },
      "source": [
        "<details><summary>Click here for the solution</summary>\n",
        "\n",
        "```python\n",
        "type(6/2) # float\n",
        "\n",
        "```\n",
        "\n",
        "</details>\n"
      ]
    },
    {
      "cell_type": "markdown",
      "metadata": {
        "id": "tDL8eMhqIXi5"
      },
      "source": [
        "<p>What is the type of the result of: <code>6 // 2</code>? (Note the double slash <code>//</code>.)</p>\n"
      ]
    },
    {
      "cell_type": "code",
      "execution_count": null,
      "metadata": {
        "id": "-2F41BdGIXi6",
        "outputId": "d3f3ae86-1942-4401-c742-f4d13bde54d2",
        "colab": {
          "base_uri": "https://localhost:8080/"
        }
      },
      "outputs": [
        {
          "output_type": "execute_result",
          "data": {
            "text/plain": [
              "int"
            ]
          },
          "metadata": {},
          "execution_count": 5
        }
      ],
      "source": [
        "# Write your code below. Don't forget to press Shift+Enter to execute the cell\n",
        "type(6//2)"
      ]
    },
    {
      "cell_type": "markdown",
      "metadata": {
        "id": "LgrhgciCIXi6"
      },
      "source": [
        "<details><summary>Click here for the solution</summary>\n",
        "\n",
        "```python\n",
        "type(6//2) # int, as the double slashes stand for integer division \n",
        "\n",
        "```\n",
        "\n",
        "</details>\n"
      ]
    },
    {
      "cell_type": "markdown",
      "metadata": {
        "id": "FojQwdEtIXi6"
      },
      "source": [
        "<hr>\n"
      ]
    },
    {
      "cell_type": "markdown",
      "metadata": {
        "id": "GLiYdik_IXi8"
      },
      "source": [
        "<h2 id=\"expressions\">Expression and Variables</h2>\n"
      ]
    },
    {
      "cell_type": "markdown",
      "metadata": {
        "id": "NE80UtmyIXi8"
      },
      "source": [
        "<h3 id=\"exp\">Expressions</h3>\n"
      ]
    },
    {
      "cell_type": "markdown",
      "metadata": {
        "id": "XR8f2FTJIXi-"
      },
      "source": [
        "<p>Expressions in Python can include operations among compatible types (e.g., integers and floats). For example, basic arithmetic operations like adding multiple numbers:</p>\n"
      ]
    },
    {
      "cell_type": "code",
      "execution_count": null,
      "metadata": {
        "id": "Jj7bgWBLIXi_"
      },
      "outputs": [],
      "source": [
        "# Addition operation expression\n",
        "\n",
        "43 + 60 + 16 + 41"
      ]
    },
    {
      "cell_type": "markdown",
      "metadata": {
        "id": "pcMN8txgIXjA"
      },
      "source": [
        "<p>We can perform subtraction operations using the minus operator. In this case the result is a negative number:</p>\n"
      ]
    },
    {
      "cell_type": "code",
      "execution_count": null,
      "metadata": {
        "id": "_t4HMGBbIXjA"
      },
      "outputs": [],
      "source": [
        "# Subtraction operation expression\n",
        "\n",
        "50 - 60"
      ]
    },
    {
      "cell_type": "markdown",
      "metadata": {
        "id": "wjtwoc2SIXjB"
      },
      "source": [
        "<p>We can do multiplication using an asterisk:</p>\n"
      ]
    },
    {
      "cell_type": "code",
      "execution_count": null,
      "metadata": {
        "id": "TrNNFygeIXjC"
      },
      "outputs": [],
      "source": [
        "# Multiplication operation expression\n",
        "\n",
        "5 * 5"
      ]
    },
    {
      "cell_type": "markdown",
      "metadata": {
        "id": "DAquqytcIXjC"
      },
      "source": [
        "<p>We can also perform division with the forward slash:\n"
      ]
    },
    {
      "cell_type": "code",
      "execution_count": null,
      "metadata": {
        "id": "ZuCtVe0SIXjD"
      },
      "outputs": [],
      "source": [
        "# Division operation expression\n",
        "\n",
        "25 / 5"
      ]
    },
    {
      "cell_type": "code",
      "execution_count": null,
      "metadata": {
        "id": "Pa4iMrptIXjE"
      },
      "outputs": [],
      "source": [
        "# Division operation expression\n",
        "\n",
        "25 / 6"
      ]
    },
    {
      "cell_type": "markdown",
      "metadata": {
        "id": "BO53Qmi5IXjF"
      },
      "source": [
        "<p>As seen in the quiz above, we can use the double slash for integer division, where the result is rounded down to the nearest integer:\n"
      ]
    },
    {
      "cell_type": "code",
      "execution_count": null,
      "metadata": {
        "id": "xKcLp-v3IXjF"
      },
      "outputs": [],
      "source": [
        "# Integer division operation expression\n",
        "\n",
        "25 // 5"
      ]
    },
    {
      "cell_type": "code",
      "execution_count": null,
      "metadata": {
        "id": "7r5NXXOTIXjG"
      },
      "outputs": [],
      "source": [
        "# Integer division operation expression\n",
        "\n",
        "25 // 6"
      ]
    },
    {
      "cell_type": "markdown",
      "metadata": {
        "id": "3DSkxRLHIXjH"
      },
      "source": [
        "<h3 id=\"exer_exp\">Exercise: Expression</h3>\n"
      ]
    },
    {
      "cell_type": "markdown",
      "metadata": {
        "id": "t5q8htzMIXjI"
      },
      "source": [
        "<p>Let's write an expression that calculates how many hours there are in 160 minutes:\n"
      ]
    },
    {
      "cell_type": "code",
      "execution_count": null,
      "metadata": {
        "id": "CFwM1b41IXjI"
      },
      "outputs": [],
      "source": [
        "# Write your code below. Don't forget to press Shift+Enter to execute the cell\n"
      ]
    },
    {
      "cell_type": "markdown",
      "metadata": {
        "id": "yWWxL7JIIXjJ"
      },
      "source": [
        "<details><summary>Click here for the solution</summary>\n",
        "\n",
        "```python\n",
        "160/60 \n",
        "\n",
        "# Or \n",
        "\n",
        "160//60\n",
        "\n",
        "```\n",
        "\n",
        "</details>\n"
      ]
    },
    {
      "cell_type": "markdown",
      "metadata": {
        "id": "Kec8gtabIXjJ"
      },
      "source": [
        "<p>Python follows well accepted mathematical conventions when evaluating mathematical expressions. In the following example, Python adds 30 to the result of the multiplication (i.e., 120).\n"
      ]
    },
    {
      "cell_type": "code",
      "execution_count": null,
      "metadata": {
        "id": "AmRLORZxIXjK"
      },
      "outputs": [],
      "source": [
        "# Mathematical expression\n",
        "\n",
        "30 + 2 * 60"
      ]
    },
    {
      "cell_type": "markdown",
      "metadata": {
        "id": "G3hlb8TNIXjL"
      },
      "source": [
        "<p>And just like mathematics, expressions enclosed in parentheses have priority. So the following multiplies 32 by 60.\n"
      ]
    },
    {
      "cell_type": "code",
      "execution_count": null,
      "metadata": {
        "id": "bMiUuEjyIXjL"
      },
      "outputs": [],
      "source": [
        "# Mathematical expression\n",
        "\n",
        "(30 + 2) * 60"
      ]
    },
    {
      "cell_type": "markdown",
      "metadata": {
        "id": "xRm2stX-IXjM"
      },
      "source": [
        "<h3 id=\"var\">Variables</h3>\n"
      ]
    },
    {
      "cell_type": "markdown",
      "metadata": {
        "id": "V9qapoUwIXjM"
      },
      "source": [
        "<p>Just like with most programming languages, we can store values in <i>variables</i>, so we can use them later on. For example:</p>\n"
      ]
    },
    {
      "cell_type": "code",
      "execution_count": null,
      "metadata": {
        "id": "aoCNjjLQIXjN"
      },
      "outputs": [],
      "source": [
        "# Store value into variable\n",
        "\n",
        "x = 43 + 60 + 16 + 41"
      ]
    },
    {
      "cell_type": "markdown",
      "metadata": {
        "id": "x7956RyWIXjP"
      },
      "source": [
        "<p>To see the value of <code>x</code> in a Notebook, we can simply place it on the last line of a cell:</p>\n"
      ]
    },
    {
      "cell_type": "code",
      "execution_count": null,
      "metadata": {
        "id": "kw-cOhKBIXjQ",
        "outputId": "f6c0930c-76c9-4460-d3ad-94d47a13a076",
        "colab": {
          "base_uri": "https://localhost:8080/"
        }
      },
      "outputs": [
        {
          "output_type": "execute_result",
          "data": {
            "text/plain": [
              "160"
            ]
          },
          "metadata": {},
          "execution_count": 5
        }
      ],
      "source": [
        "# Print out the value in variable\n",
        "\n",
        "x"
      ]
    },
    {
      "cell_type": "markdown",
      "metadata": {
        "id": "l5KkLcw_IXjQ"
      },
      "source": [
        "<p>We can also perform operations on <code>x</code> and save the result to a new variable:</p>\n"
      ]
    },
    {
      "cell_type": "code",
      "execution_count": null,
      "metadata": {
        "id": "tWD3kY51IXjR",
        "outputId": "0cbea4a3-d627-472f-cc80-7c40e771e199",
        "colab": {
          "base_uri": "https://localhost:8080/"
        }
      },
      "outputs": [
        {
          "output_type": "execute_result",
          "data": {
            "text/plain": [
              "2.6666666666666665"
            ]
          },
          "metadata": {},
          "execution_count": 6
        }
      ],
      "source": [
        "# Use another variable to store the result of the operation between variable and value\n",
        "\n",
        "y = x / 60\n",
        "y"
      ]
    },
    {
      "cell_type": "markdown",
      "metadata": {
        "id": "U8EFG8nuIXjR"
      },
      "source": [
        "<p>If we save a value to an existing variable, the new value will overwrite the previous value:</p>\n"
      ]
    },
    {
      "cell_type": "code",
      "execution_count": null,
      "metadata": {
        "id": "I8jot0BBIXjT",
        "outputId": "4be9a917-4dd5-4402-ced6-e8600f2efc2a",
        "colab": {
          "base_uri": "https://localhost:8080/"
        }
      },
      "outputs": [
        {
          "output_type": "execute_result",
          "data": {
            "text/plain": [
              "2.6666666666666665"
            ]
          },
          "metadata": {},
          "execution_count": 7
        }
      ],
      "source": [
        "# Overwrite variable with new value\n",
        "\n",
        "x = x / 60\n",
        "x"
      ]
    },
    {
      "cell_type": "markdown",
      "metadata": {
        "id": "_7_8vTRQIXjT"
      },
      "source": [
        "<p>It's a good practice to use meaningful variable names, so you and others can read the code and understand it more easily:</p>\n"
      ]
    },
    {
      "cell_type": "code",
      "execution_count": null,
      "metadata": {
        "id": "YkS68M1BIXjU",
        "outputId": "71b90210-cb7c-4577-b864-dfc1a83e9b51",
        "colab": {
          "base_uri": "https://localhost:8080/"
        }
      },
      "outputs": [
        {
          "output_type": "execute_result",
          "data": {
            "text/plain": [
              "142"
            ]
          },
          "metadata": {},
          "execution_count": 8
        }
      ],
      "source": [
        "# Name the variables meaningfully\n",
        "\n",
        "total_min = 43 + 42 + 57 # Total length of albums in minutes\n",
        "total_min"
      ]
    },
    {
      "cell_type": "code",
      "execution_count": null,
      "metadata": {
        "id": "24XV-WolIXjV",
        "outputId": "1a044027-fb80-48e1-b960-78ca788bde2d",
        "colab": {
          "base_uri": "https://localhost:8080/"
        }
      },
      "outputs": [
        {
          "output_type": "execute_result",
          "data": {
            "text/plain": [
              "2.3666666666666667"
            ]
          },
          "metadata": {},
          "execution_count": 9
        }
      ],
      "source": [
        "# Name the variables meaningfully\n",
        "\n",
        "total_hours = total_min / 60 # Total length of albums in hours \n",
        "total_hours"
      ]
    },
    {
      "cell_type": "markdown",
      "metadata": {
        "id": "Xnv2uBL0IXjV"
      },
      "source": [
        "<p>In the cells above we added the length of three albums in minutes and stored it in <code>total_min</code>. We then divided it by 60 to calculate total length <code>total_hours</code> in hours. You can also do it all at once in a single expression, as long as you use parenthesis to add the albums length before you divide, as shown below.</p>\n"
      ]
    },
    {
      "cell_type": "code",
      "execution_count": null,
      "metadata": {
        "id": "M_vKke87IXjW",
        "outputId": "e89318da-f447-4517-df71-2bcab6feb242",
        "colab": {
          "base_uri": "https://localhost:8080/"
        }
      },
      "outputs": [
        {
          "output_type": "execute_result",
          "data": {
            "text/plain": [
              "2.3666666666666667"
            ]
          },
          "metadata": {},
          "execution_count": 10
        }
      ],
      "source": [
        "# Complicate expression\n",
        "\n",
        "total_hours = (43 + 42 + 57) / 60  # Total hours in a single expression\n",
        "total_hours"
      ]
    },
    {
      "cell_type": "markdown",
      "metadata": {
        "id": "fTO4b-TpIXjW"
      },
      "source": [
        "<p>If you'd rather have total hours as an integer, you can of course replace the floating point division with integer division (i.e., <code>//</code>).</p>\n"
      ]
    },
    {
      "cell_type": "markdown",
      "metadata": {
        "id": "MDtdW6sgIXjX"
      },
      "source": [
        "<h3 id=\"exer_exp_var\">Exercise: Expression and Variables in Python</h3>\n"
      ]
    },
    {
      "cell_type": "markdown",
      "metadata": {
        "id": "9umzVvkBIXjY"
      },
      "source": [
        "<p>What is the value of <code>x</code> where <code>x = 3 + 2 * 2</code></p>\n"
      ]
    },
    {
      "cell_type": "code",
      "execution_count": null,
      "metadata": {
        "id": "9kZ9ATxKIXjY",
        "outputId": "aeed200c-e539-4e91-f453-61a14b61f088",
        "colab": {
          "base_uri": "https://localhost:8080/"
        }
      },
      "outputs": [
        {
          "output_type": "execute_result",
          "data": {
            "text/plain": [
              "7"
            ]
          },
          "metadata": {},
          "execution_count": 11
        }
      ],
      "source": [
        "# Write your code below. Don't forget to press Shift+Enter to execute the cell\n",
        "x = 3 + 2 * 2\n",
        "x"
      ]
    },
    {
      "cell_type": "markdown",
      "metadata": {
        "id": "OPsZKYZbIXjY"
      },
      "source": [
        "<details><summary>Click here for the solution</summary>\n",
        "\n",
        "```python\n",
        "7\n",
        "\n",
        "```\n",
        "\n",
        "</details>\n"
      ]
    },
    {
      "cell_type": "markdown",
      "metadata": {
        "id": "laWLTVfBIXjZ"
      },
      "source": [
        "<p>What is the value of <code>y</code> where <code>y = (3 + 2) * 2</code>?</p>\n"
      ]
    },
    {
      "cell_type": "code",
      "execution_count": null,
      "metadata": {
        "id": "seLfT6ABIXja",
        "outputId": "5d3afada-8bee-41d3-cc12-1926beb744db",
        "colab": {
          "base_uri": "https://localhost:8080/"
        }
      },
      "outputs": [
        {
          "output_type": "execute_result",
          "data": {
            "text/plain": [
              "10"
            ]
          },
          "metadata": {},
          "execution_count": 12
        }
      ],
      "source": [
        "# Write your code below. Don't forget to press Shift+Enter to execute the cell\n",
        "y = (3 + 2) * 2\n",
        "y"
      ]
    },
    {
      "cell_type": "markdown",
      "metadata": {
        "id": "7MSSuhzgIXja"
      },
      "source": [
        "<details><summary>Click here for the solution</summary>\n",
        "\n",
        "```python\n",
        "10\n",
        "\n",
        "```\n",
        "\n",
        "</details>\n"
      ]
    },
    {
      "cell_type": "markdown",
      "metadata": {
        "id": "GyPByfndIXjb"
      },
      "source": [
        "<p>What is the value of <code>z</code> where <code>z = x + y</code>?</p>\n"
      ]
    },
    {
      "cell_type": "code",
      "execution_count": null,
      "metadata": {
        "id": "OunnDUP_IXjc",
        "outputId": "1b63b310-cea8-4a93-b752-4738411eae70",
        "colab": {
          "base_uri": "https://localhost:8080/"
        }
      },
      "outputs": [
        {
          "output_type": "execute_result",
          "data": {
            "text/plain": [
              "17"
            ]
          },
          "metadata": {},
          "execution_count": 13
        }
      ],
      "source": [
        "# Write your code below. Don't forget to press Shift+Enter to execute the cell\n",
        "x = 3 + 2 * 2\n",
        "y = (3 + 2) * 2\n",
        "z = x + y\n",
        "z"
      ]
    },
    {
      "cell_type": "markdown",
      "metadata": {
        "id": "6q1v9t8fIXjc"
      },
      "source": [
        "<details><summary>Click here for the solution</summary>\n",
        "\n",
        "```python\n",
        "17\n",
        "\n",
        "```\n",
        "\n",
        "</details>\n"
      ]
    },
    {
      "cell_type": "markdown",
      "metadata": {
        "id": "4PK1rwlGIXjc"
      },
      "source": [
        "<hr>\n",
        "<h2>The last exercise!</h2>\n",
        "<p>Congratulations, you have completed your first lesson and hands-on lab in Python.\n",
        "<hr>\n"
      ]
    },
    {
      "cell_type": "markdown",
      "metadata": {
        "id": "WzwgETGqIXjd"
      },
      "source": [
        "## Author\n",
        "\n",
        "<a href=\"https://www.linkedin.com/in/joseph-s-50398b136/?utm_medium=Exinfluencer&utm_source=Exinfluencer&utm_content=000026UJ&utm_term=10006555&utm_id=NA-SkillsNetwork-Channel-SkillsNetworkCoursesIBMDeveloperSkillsNetworkPY0101ENSkillsNetwork19487395-2022-01-01\" target=\"_blank\">Joseph Santarcangelo</a>\n",
        "\n",
        "## Other contributors\n",
        "\n",
        "<a href=\"https://www.linkedin.com/in/jiahui-mavis-zhou-a4537814a?utm_medium=Exinfluencer&utm_source=Exinfluencer&utm_content=000026UJ&utm_term=10006555&utm_id=NA-SkillsNetwork-Channel-SkillsNetworkCoursesIBMDeveloperSkillsNetworkPY0101ENSkillsNetwork19487395-2022-01-01\">Mavis Zhou</a>\n",
        "\n",
        "## Change Log\n",
        "\n",
        "| Date (YYYY-MM-DD) | Version | Changed By | Change Description                 |\n",
        "| ----------------- | ------- | ---------- | ---------------------------------- |\n",
        "| 2022-01-10        | 2.1     | Malika     | Removed the readme for GitShare    |\n",
        "| 2020-08-26        | 2.0     | Lavanya    | Moved lab to course repo in GitLab |\n",
        "|                   |         |            |                                    |\n",
        "|                   |         |            |                                    |\n",
        "\n",
        "## <h3 align=\"center\"> © IBM Corporation 2020. All rights reserved. <h3/>\n"
      ]
    }
  ],
  "metadata": {
    "kernelspec": {
      "display_name": "Python 3",
      "language": "python",
      "name": "python3"
    },
    "language_info": {
      "codemirror_mode": {
        "name": "ipython",
        "version": 3
      },
      "file_extension": ".py",
      "mimetype": "text/x-python",
      "name": "python",
      "nbconvert_exporter": "python",
      "pygments_lexer": "ipython3",
      "version": "3.7.6"
    },
    "colab": {
      "name": "Copia de PY0101EN-1-1-Write_your_first_python_code.ipynb",
      "provenance": [],
      "include_colab_link": true
    }
  },
  "nbformat": 4,
  "nbformat_minor": 0
}