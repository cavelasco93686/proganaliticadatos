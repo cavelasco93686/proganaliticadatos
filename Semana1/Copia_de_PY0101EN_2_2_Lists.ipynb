{
  "cells": [
    {
      "cell_type": "markdown",
      "metadata": {
        "id": "view-in-github",
        "colab_type": "text"
      },
      "source": [
        "<a href=\"https://colab.research.google.com/github/cavelasco93686/proganaliticadatos/blob/main/Semana1/Copia_de_PY0101EN_2_2_Lists.ipynb\" target=\"_parent\"><img src=\"https://colab.research.google.com/assets/colab-badge.svg\" alt=\"Open In Colab\"/></a>"
      ]
    },
    {
      "cell_type": "markdown",
      "metadata": {
        "id": "2a5uZSI8E4F2"
      },
      "source": [
        "<p style=\"text-align:center\">\n",
        "    <a href=\"https://skills.network/?utm_medium=Exinfluencer&utm_source=Exinfluencer&utm_content=000026UJ&utm_term=10006555&utm_id=NA-SkillsNetwork-Channel-SkillsNetworkCoursesIBMDeveloperSkillsNetworkPY0101ENSkillsNetwork19487395-2022-01-01\" target=\"_blank\">\n",
        "    <img src=\"https://cf-courses-data.s3.us.cloud-object-storage.appdomain.cloud/assets/logos/SN_web_lightmode.png\" width=\"200\" alt=\"Skills Network Logo\"  />\n",
        "    </a>\n",
        "</p>\n",
        "\n",
        "# Lists in Python\n",
        "\n",
        "Estimated time needed: **15** minutes\n",
        "\n",
        "## Objectives\n",
        "\n",
        "After completing this lab you will be able to:\n",
        "\n",
        "*   Perform list operations in Python, including indexing, list manipulation, and copy/clone list.\n"
      ]
    },
    {
      "cell_type": "markdown",
      "metadata": {
        "id": "R56ZnA5lE4GA"
      },
      "source": [
        "<h2>Table of Contents</h2>\n",
        "<div class=\"alert alert-block alert-info\" style=\"margin-thttps://op/?utm_medium=Exinfluencer&utm_source=Exinfluencer&utm_https://co/?utm_medium=Exinfluencer&utm_source=Exinfluencer&utm_content=000026UJ&utm_term=10006555&utm_id=NA-SkillsNetwork-Channel-SkillsNetworkCoursesIBMDeveloperSkillsNetworkPY0101ENSkillsNetwork19487395-2022-01-01ntent=000026UJ&utm_term=10006555&utm_id=NA-SkillsNetwork-Channel-SkillsNetworkCoursesIBMDeveloperSkillsNetworkPY0101ENSkillsNetwork19487395-2022-01-01: 20px\">\n",
        "    <ul>\n",
        "        <li>\n",
        "            <a href=\"https://#dataset\">About the Dataset</a>\n",
        "        </li>\n",
        "        <li>\n",
        "            <a href=\"https://#list\">Lists</a>\n",
        "            <ul>\n",
        "                <li><a href=\"https://index/?utm_medium=Exinfluencer&utm_source=Exinfluencer&utm_https://content/?utm_medium=Exinfluencer&utm_source=Exinfluencer&utm_content=000026UJ&utm_term=10006555&utm_id=NA-SkillsNetwork-Channel-SkillsNetworkCoursesIBMDeveloperSkillsNetworkPY0101ENSkillsNetwork19487395-2022-01-01=000026UJ&utm_term=10006555&utm_id=NA-SkillsNetwork-Channel-SkillsNetworkCoursesIBMDeveloperSkillsNetworkPY0101ENSkillsNetwork19487395-2022-01-01\">Indexing</a></li>\n",
        "                <li><a href=\"content\">List Content</a></li>\n",
        "                <li><a href=\"op\">List Operations</a></li>\n",
        "                <li><a href=\"co\">Copy and Clone List</a></li>\n",
        "            </ul>\n",
        "        </li>\n",
        "        <li>\n",
        "            <a href=\"https://#quiz\">Quiz on Lists</a>\n",
        "        </li>\n",
        "    </ul>\n",
        "\n",
        "</div>\n",
        "\n",
        "<hr>\n"
      ]
    },
    {
      "cell_type": "markdown",
      "metadata": {
        "id": "7dv3W4wmE4GD"
      },
      "source": [
        "<h2 id=\"#dataset\">About the Dataset</h2>\n"
      ]
    },
    {
      "cell_type": "markdown",
      "metadata": {
        "id": "amI9UaOoE4GF"
      },
      "source": [
        "Imagine you received album recommendations from your friends and compiled all of the recommandations into a table, with specific information about each album.\n",
        "\n",
        "The table has one row for each movie and several columns:\n",
        "\n",
        "*   **artist** - Name of the artist\n",
        "*   **album** - Name of the album\n",
        "*   **released_year** - Year the album was released\n",
        "*   **length_min_sec** - Length of the album (hours,minutes,seconds)\n",
        "*   **genre** - Genre of the album\n",
        "*   **music_recording_sales_millions** - Music recording sales (millions in USD) on [SONG://DATABASE](http://www.song-database.com/?utm_medium=Exinfluencer&utm_source=Exinfluencer&utm_content=000026UJ&utm_term=10006555&utm_id=NA-SkillsNetwork-Channel-SkillsNetworkCoursesIBMDeveloperSkillsNetworkPY0101ENSkillsNetwork19487395-2022-01-01)\n",
        "*   **claimed_sales_millions** - Album's claimed sales (millions in USD) on [SONG://DATABASE](http://www.song-database.com/?utm_medium=Exinfluencer&utm_source=Exinfluencer&utm_content=000026UJ&utm_term=10006555&utm_id=NA-SkillsNetwork-Channel-SkillsNetworkCoursesIBMDeveloperSkillsNetworkPY0101ENSkillsNetwork19487395-2022-01-01)\n",
        "*   **date_released** - Date on which the album was released\n",
        "*   **soundtrack** - Indicates if the album is the movie soundtrack (Y) or (N)\n",
        "*   **rating_of_friends** - Indicates the rating from your friends from 1 to 10\n",
        "\n",
        "<br>\n",
        "<br>\n",
        "\n",
        "The dataset can be seen below:\n",
        "\n",
        "<font size=\"1\">\n",
        "<table font-size:xx-small>\n",
        "  <tr>\n",
        "    <th>Artist</th>\n",
        "    <th>Album</th> \n",
        "    <th>Released</th>\n",
        "    <th>Length</th>\n",
        "    <th>Genre</th> \n",
        "    <th>Music recording sales (millions)</th>\n",
        "    <th>Claimed sales (millions)</th>\n",
        "    <th>Released</th>\n",
        "    <th>Soundtrack</th>\n",
        "    <th>Rating (friends)</th>\n",
        "  </tr>\n",
        "  <tr>\n",
        "    <td>Michael Jackson</td>\n",
        "    <td>Thriller</td> \n",
        "    <td>1982</td>\n",
        "    <td>00:42:19</td>\n",
        "    <td>Pop, rock, R&B</td>\n",
        "    <td>46</td>\n",
        "    <td>65</td>\n",
        "    <td>30-Nov-82</td>\n",
        "    <td></td>\n",
        "    <td>10.0</td>\n",
        "  </tr>\n",
        "  <tr>\n",
        "    <td>AC/DC</td>\n",
        "    <td>Back in Black</td> \n",
        "    <td>1980</td>\n",
        "    <td>00:42:11</td>\n",
        "    <td>Hard rock</td>\n",
        "    <td>26.1</td>\n",
        "    <td>50</td>\n",
        "    <td>25-Jul-80</td>\n",
        "    <td></td>\n",
        "    <td>8.5</td>\n",
        "  </tr>\n",
        "    <tr>\n",
        "    <td>Pink Floyd</td>\n",
        "    <td>The Dark Side of the Moon</td> \n",
        "    <td>1973</td>\n",
        "    <td>00:42:49</td>\n",
        "    <td>Progressive rock</td>\n",
        "    <td>24.2</td>\n",
        "    <td>45</td>\n",
        "    <td>01-Mar-73</td>\n",
        "    <td></td>\n",
        "    <td>9.5</td>\n",
        "  </tr>\n",
        "    <tr>\n",
        "    <td>Whitney Houston</td>\n",
        "    <td>The Bodyguard</td> \n",
        "    <td>1992</td>\n",
        "    <td>00:57:44</td>\n",
        "    <td>Soundtrack/R&B, soul, pop</td>\n",
        "    <td>26.1</td>\n",
        "    <td>50</td>\n",
        "    <td>25-Jul-80</td>\n",
        "    <td>Y</td>\n",
        "    <td>7.0</td>\n",
        "  </tr>\n",
        "    <tr>\n",
        "    <td>Meat Loaf</td>\n",
        "    <td>Bat Out of Hell</td> \n",
        "    <td>1977</td>\n",
        "    <td>00:46:33</td>\n",
        "    <td>Hard rock, progressive rock</td>\n",
        "    <td>20.6</td>\n",
        "    <td>43</td>\n",
        "    <td>21-Oct-77</td>\n",
        "    <td></td>\n",
        "    <td>7.0</td>\n",
        "  </tr>\n",
        "    <tr>\n",
        "    <td>Eagles</td>\n",
        "    <td>Their Greatest Hits (1971-1975)</td> \n",
        "    <td>1976</td>\n",
        "    <td>00:43:08</td>\n",
        "    <td>Rock, soft rock, folk rock</td>\n",
        "    <td>32.2</td>\n",
        "    <td>42</td>\n",
        "    <td>17-Feb-76</td>\n",
        "    <td></td>\n",
        "    <td>9.5</td>\n",
        "  </tr>\n",
        "    <tr>\n",
        "    <td>Bee Gees</td>\n",
        "    <td>Saturday Night Fever</td> \n",
        "    <td>1977</td>\n",
        "    <td>1:15:54</td>\n",
        "    <td>Disco</td>\n",
        "    <td>20.6</td>\n",
        "    <td>40</td>\n",
        "    <td>15-Nov-77</td>\n",
        "    <td>Y</td>\n",
        "    <td>9.0</td>\n",
        "  </tr>\n",
        "    <tr>\n",
        "    <td>Fleetwood Mac</td>\n",
        "    <td>Rumours</td> \n",
        "    <td>1977</td>\n",
        "    <td>00:40:01</td>\n",
        "    <td>Soft rock</td>\n",
        "    <td>27.9</td>\n",
        "    <td>40</td>\n",
        "    <td>04-Feb-77</td>\n",
        "    <td></td>\n",
        "    <td>9.5</td>\n",
        "  </tr>\n",
        "</table></font>\n"
      ]
    },
    {
      "cell_type": "markdown",
      "metadata": {
        "id": "X6jIbFTUE4GI"
      },
      "source": [
        "<hr>\n"
      ]
    },
    {
      "cell_type": "markdown",
      "metadata": {
        "id": "W5uxwkoRE4GJ"
      },
      "source": [
        "<h2 id=\"list\">Lists</h2>\n"
      ]
    },
    {
      "cell_type": "markdown",
      "metadata": {
        "id": "0GXOjCJzE4GK"
      },
      "source": [
        "<h3 id=\"index\">Indexing</h3>\n"
      ]
    },
    {
      "cell_type": "markdown",
      "metadata": {
        "id": "Q5klIXy_E4GL"
      },
      "source": [
        "We are going to take a look at lists in Python. A list is a sequenced collection of different objects such as integers, strings, and even other lists as well. The address of each element within a list is called an <b>index</b>. An index is used to access and refer to items within a list.\n"
      ]
    },
    {
      "cell_type": "markdown",
      "metadata": {
        "id": "FW2a0_fZE4GN"
      },
      "source": [
        "<img src=\"https://cf-courses-data.s3.us.cloud-object-storage.appdomain.cloud/IBMDeveloperSkillsNetwork-PY0101EN-SkillsNetwork/labs/Module%202/images/ListsIndex.png\" width=\"1000\" />\n"
      ]
    },
    {
      "cell_type": "markdown",
      "metadata": {
        "id": "dUQwtLVjE4GP"
      },
      "source": [
        "To create a list, type the list within square brackets <b>\\[ ]</b>, with your content inside the parenthesis and separated by commas. Let’s try it!\n"
      ]
    },
    {
      "cell_type": "code",
      "execution_count": null,
      "metadata": {
        "id": "-erj88a7E4GQ",
        "outputId": "d7c1b45e-84c7-44d0-a598-d3470c6a96ff",
        "colab": {
          "base_uri": "https://localhost:8080/"
        }
      },
      "outputs": [
        {
          "output_type": "execute_result",
          "data": {
            "text/plain": [
              "['Michael Jackson', 10.1, 1982]"
            ]
          },
          "metadata": {},
          "execution_count": 2
        }
      ],
      "source": [
        "# Create a list\n",
        "\n",
        "L = [\"Michael Jackson\", 10.1, 1982]\n",
        "L"
      ]
    },
    {
      "cell_type": "markdown",
      "metadata": {
        "id": "WWR2rHHqE4GS"
      },
      "source": [
        "We can use negative and regular indexing with a list:\n"
      ]
    },
    {
      "cell_type": "markdown",
      "metadata": {
        "id": "Xhya3G9SE4GS"
      },
      "source": [
        "<img src=\"https://cf-courses-data.s3.us.cloud-object-storage.appdomain.cloud/IBMDeveloperSkillsNetwork-PY0101EN-SkillsNetwork/labs/Module%202/images/ListsNeg.png\" width=\"1000\" />\n"
      ]
    },
    {
      "cell_type": "code",
      "execution_count": null,
      "metadata": {
        "id": "KpnYBSVuE4GT",
        "outputId": "69911386-05e3-4305-f946-f71abdfad23e",
        "colab": {
          "base_uri": "https://localhost:8080/"
        }
      },
      "outputs": [
        {
          "output_type": "stream",
          "name": "stdout",
          "text": [
            "the same element using negative and positive indexing:\n",
            " Postive: Michael Jackson \n",
            " Negative: Michael Jackson\n",
            "the same element using negative and positive indexing:\n",
            " Postive: 10.1 \n",
            " Negative: 10.1\n",
            "the same element using negative and positive indexing:\n",
            " Postive: 1982 \n",
            " Negative: 1982\n"
          ]
        }
      ],
      "source": [
        "# Print the elements on each index\n",
        "\n",
        "print('the same element using negative and positive indexing:\\n Postive:',L[0],\n",
        "'\\n Negative:' , L[-3]  )\n",
        "print('the same element using negative and positive indexing:\\n Postive:',L[1],\n",
        "'\\n Negative:' , L[-2]  )\n",
        "print('the same element using negative and positive indexing:\\n Postive:',L[2],\n",
        "'\\n Negative:' , L[-1]  )"
      ]
    },
    {
      "cell_type": "markdown",
      "metadata": {
        "id": "3FtyG4cmE4GT"
      },
      "source": [
        "<h3 id=\"content\">List Content</h3>\n"
      ]
    },
    {
      "cell_type": "markdown",
      "metadata": {
        "id": "enachDnNE4GU"
      },
      "source": [
        "Lists can contain strings, floats, and integers. We can nest other lists, and we can also nest tuples and other data structures. The same indexing conventions apply for nesting:\n"
      ]
    },
    {
      "cell_type": "code",
      "execution_count": null,
      "metadata": {
        "id": "4o_SL8EvE4GU",
        "outputId": "973ee651-f5a0-4186-e79d-6f0f3f36491d",
        "colab": {
          "base_uri": "https://localhost:8080/"
        }
      },
      "outputs": [
        {
          "output_type": "execute_result",
          "data": {
            "text/plain": [
              "['Michael Jackson', 10.1, 1982, [1, 2], ('A', 1)]"
            ]
          },
          "metadata": {},
          "execution_count": 4
        }
      ],
      "source": [
        "# Sample List\n",
        "\n",
        "[\"Michael Jackson\", 10.1, 1982, [1, 2], (\"A\", 1)]"
      ]
    },
    {
      "cell_type": "markdown",
      "metadata": {
        "id": "oQ688grtE4GV"
      },
      "source": [
        "<h3 id=\"op\">List Operations</h3>\n"
      ]
    },
    {
      "cell_type": "markdown",
      "metadata": {
        "id": "qXeDlwvRE4GV"
      },
      "source": [
        "We can also perform slicing in lists. For example, if we want the last two elements, we use the following command:\n"
      ]
    },
    {
      "cell_type": "code",
      "execution_count": null,
      "metadata": {
        "id": "OjvhfiXNE4GW",
        "outputId": "62da422a-6a36-4d86-d230-58b2ed1d9a39",
        "colab": {
          "base_uri": "https://localhost:8080/"
        }
      },
      "outputs": [
        {
          "output_type": "execute_result",
          "data": {
            "text/plain": [
              "['Michael Jackson', 10.1, 1982, 'MJ', 1]"
            ]
          },
          "metadata": {},
          "execution_count": 5
        }
      ],
      "source": [
        "# Sample List\n",
        "\n",
        "L = [\"Michael Jackson\", 10.1,1982,\"MJ\",1]\n",
        "L"
      ]
    },
    {
      "cell_type": "markdown",
      "metadata": {
        "id": "pP5WCWkQE4GW"
      },
      "source": [
        "<img src=\"https://cf-courses-data.s3.us.cloud-object-storage.appdomain.cloud/IBMDeveloperSkillsNetwork-PY0101EN-SkillsNetwork/labs/Module%202/images/ListsSlice.png\" width=\"1000\">\n"
      ]
    },
    {
      "cell_type": "code",
      "execution_count": null,
      "metadata": {
        "id": "65KZE5G9E4GX",
        "outputId": "a9f2c689-403d-4cda-ad1b-f9dbd68ef3e2",
        "colab": {
          "base_uri": "https://localhost:8080/"
        }
      },
      "outputs": [
        {
          "output_type": "execute_result",
          "data": {
            "text/plain": [
              "['MJ', 1]"
            ]
          },
          "metadata": {},
          "execution_count": 6
        }
      ],
      "source": [
        "# List slicing\n",
        "\n",
        "L[3:5]"
      ]
    },
    {
      "cell_type": "markdown",
      "metadata": {
        "id": "k2vpL1NqE4GY"
      },
      "source": [
        "We can use the method <code>extend</code> to add new elements to the list:\n"
      ]
    },
    {
      "cell_type": "code",
      "execution_count": null,
      "metadata": {
        "id": "Gz_Bu_gGE4GZ",
        "outputId": "4483c053-357a-4daf-b0e9-8aefc1312546",
        "colab": {
          "base_uri": "https://localhost:8080/"
        }
      },
      "outputs": [
        {
          "output_type": "execute_result",
          "data": {
            "text/plain": [
              "['Michael Jackson', 10.2, 'pop', 10]"
            ]
          },
          "metadata": {},
          "execution_count": 7
        }
      ],
      "source": [
        "# Use extend to add elements to list\n",
        "\n",
        "L = [ \"Michael Jackson\", 10.2]\n",
        "L.extend(['pop', 10])\n",
        "L"
      ]
    },
    {
      "cell_type": "markdown",
      "metadata": {
        "id": "5lWVDgSME4Ga"
      },
      "source": [
        "Another similar method is <code>append</code>. If we apply <code>append</code> instead of <code>extend</code>, we add one element to the list:\n"
      ]
    },
    {
      "cell_type": "code",
      "execution_count": null,
      "metadata": {
        "id": "8s2XCoIZE4Gb",
        "outputId": "dd29d332-9020-4c7c-9892-bc2c4da15d75",
        "colab": {
          "base_uri": "https://localhost:8080/"
        }
      },
      "outputs": [
        {
          "output_type": "execute_result",
          "data": {
            "text/plain": [
              "['Michael Jackson', 10.2, ['pop', 10]]"
            ]
          },
          "metadata": {},
          "execution_count": 8
        }
      ],
      "source": [
        "# Use append to add elements to list\n",
        "\n",
        "L = [ \"Michael Jackson\", 10.2]\n",
        "L.append(['pop', 10])\n",
        "L"
      ]
    },
    {
      "cell_type": "markdown",
      "metadata": {
        "id": "gYYuvT8qE4Gb"
      },
      "source": [
        "Each time we apply a method, the list changes. If we apply <code>extend</code> we add two new elements to the list. The list <code>L</code> is then modified by adding two new elements:\n"
      ]
    },
    {
      "cell_type": "code",
      "execution_count": null,
      "metadata": {
        "id": "HEiIcJLME4Gc"
      },
      "outputs": [],
      "source": [
        "# Use extend to add elements to list\n",
        "\n",
        "L = [ \"Michael Jackson\", 10.2]\n",
        "L.extend(['pop', 10])\n",
        "L"
      ]
    },
    {
      "cell_type": "markdown",
      "metadata": {
        "id": "j3xqtWbEE4Gd"
      },
      "source": [
        "If we append the list  <code>\\['a','b']</code> we have one new element consisting of a nested list:\n"
      ]
    },
    {
      "cell_type": "code",
      "execution_count": null,
      "metadata": {
        "id": "wtyRKVqPE4Ge"
      },
      "outputs": [],
      "source": [
        "# Use append to add elements to list\n",
        "\n",
        "L.append(['a','b'])\n",
        "L"
      ]
    },
    {
      "cell_type": "markdown",
      "metadata": {
        "id": "-t_iBiBeE4Ge"
      },
      "source": [
        "As lists are mutable, we can change them. For example, we can change the first element as follows:\n"
      ]
    },
    {
      "cell_type": "code",
      "execution_count": null,
      "metadata": {
        "id": "PtkkrF_eE4Gf"
      },
      "outputs": [],
      "source": [
        "# Change the element based on the index\n",
        "\n",
        "A = [\"disco\", 10, 1.2]\n",
        "print('Before change:', A)\n",
        "A[0] = 'hard rock'\n",
        "print('After change:', A)"
      ]
    },
    {
      "cell_type": "markdown",
      "metadata": {
        "id": "ltPqgG9bE4Gg"
      },
      "source": [
        "We can also delete an element of a list using the <code>del</code> command:\n"
      ]
    },
    {
      "cell_type": "code",
      "execution_count": null,
      "metadata": {
        "id": "utMhWiebE4Gg"
      },
      "outputs": [],
      "source": [
        "# Delete the element based on the index\n",
        "\n",
        "print('Before change:', A)\n",
        "del(A[0])\n",
        "print('After change:', A)"
      ]
    },
    {
      "cell_type": "markdown",
      "metadata": {
        "id": "RSGVmzUxE4Gg"
      },
      "source": [
        "We can convert a string to a list using <code>split</code>.  For example, the method <code>split</code> translates every group of characters separated by a space into an element in a list:\n"
      ]
    },
    {
      "cell_type": "code",
      "execution_count": null,
      "metadata": {
        "id": "NR-rQo1uE4Gh"
      },
      "outputs": [],
      "source": [
        "# Split the string, default is by space\n",
        "\n",
        "'hard rock'.split()"
      ]
    },
    {
      "cell_type": "markdown",
      "metadata": {
        "id": "KclF9qA-E4Gh"
      },
      "source": [
        "We can use the split function to separate strings on a specific character which we call a **delimiter**. We pass the character we would like to split on into the argument, which in this case is a comma.  The result is a list, and each element corresponds to a set of characters that have been separated by a comma:\n"
      ]
    },
    {
      "cell_type": "code",
      "execution_count": null,
      "metadata": {
        "id": "j1_h-A6kE4Gi"
      },
      "outputs": [],
      "source": [
        "# Split the string by comma\n",
        "\n",
        "'A,B,C,D'.split(',')"
      ]
    },
    {
      "cell_type": "markdown",
      "metadata": {
        "id": "1rOAyehlE4Gi"
      },
      "source": [
        "<h3 id=\"co\">Copy and Clone List</h3>\n"
      ]
    },
    {
      "cell_type": "markdown",
      "metadata": {
        "id": "NWzOKhrLE4Gj"
      },
      "source": [
        "When we set one variable <b>B</b> equal to <b>A</b>, both <b>A</b> and <b>B</b> are referencing the same list in memory:\n"
      ]
    },
    {
      "cell_type": "code",
      "execution_count": null,
      "metadata": {
        "id": "EG3RgvnHE4Gj",
        "outputId": "53e6274a-da59-470f-8bd8-7d09bcdbb259",
        "colab": {
          "base_uri": "https://localhost:8080/"
        }
      },
      "outputs": [
        {
          "output_type": "stream",
          "name": "stdout",
          "text": [
            "A: ['hard rock', 10, 1.2]\n",
            "B: ['hard rock', 10, 1.2]\n"
          ]
        }
      ],
      "source": [
        "# Copy (copy by reference) the list A\n",
        "\n",
        "A = [\"hard rock\", 10, 1.2]\n",
        "B = A\n",
        "print('A:', A)\n",
        "print('B:', B)"
      ]
    },
    {
      "cell_type": "markdown",
      "metadata": {
        "id": "NxLM366cE4Gj"
      },
      "source": [
        "<img src=\"https://cf-courses-data.s3.us.cloud-object-storage.appdomain.cloud/IBMDeveloperSkillsNetwork-PY0101EN-SkillsNetwork/labs/Module%202/images/ListsRef.png\" width=\"1000\" align=\"center\">\n"
      ]
    },
    {
      "cell_type": "markdown",
      "metadata": {
        "id": "7z0h9hrrE4Gk"
      },
      "source": [
        "Initially, the value of the first element in <b>B</b> is set as \"hard rock\". If we change the first element in <b>A</b> to <b>\"banana\"</b>, we get an unexpected side effect.  As <b>A</b> and <b>B</b> are referencing the same list, if we change list <b>A</b>, then list <b>B</b> also changes. If we check the first element of <b>B</b> we get \"banana\" instead of \"hard rock\":\n"
      ]
    },
    {
      "cell_type": "code",
      "execution_count": null,
      "metadata": {
        "id": "z95Ov7_AE4Gk",
        "outputId": "1e824f20-a642-4b85-9360-78074736e3e9",
        "colab": {
          "base_uri": "https://localhost:8080/"
        }
      },
      "outputs": [
        {
          "output_type": "stream",
          "name": "stdout",
          "text": [
            "B[0]: hard rock\n",
            "B[0]: banana\n"
          ]
        }
      ],
      "source": [
        "# Examine the copy by reference\n",
        "\n",
        "print('B[0]:', B[0])\n",
        "A[0] = \"banana\"\n",
        "print('B[0]:', B[0])"
      ]
    },
    {
      "cell_type": "markdown",
      "metadata": {
        "id": "emtaCxX2E4Gl"
      },
      "source": [
        "This is demonstrated in the following figure:\n"
      ]
    },
    {
      "cell_type": "markdown",
      "metadata": {
        "id": "0wiVMZNBE4Gl"
      },
      "source": [
        "<img src = \"https://cf-courses-data.s3.us.cloud-object-storage.appdomain.cloud/IBMDeveloperSkillsNetwork-PY0101EN-SkillsNetwork/labs/Module%202/images/ListsRefGif.gif\" width=\"1000\" />\n"
      ]
    },
    {
      "cell_type": "markdown",
      "metadata": {
        "id": "xzHAMutkE4Gl"
      },
      "source": [
        "You can clone list **A** by using  the following syntax:\n"
      ]
    },
    {
      "cell_type": "code",
      "execution_count": null,
      "metadata": {
        "id": "W_aBn6-CE4Gl",
        "outputId": "d12af7f7-0878-4024-e530-63780de5fba0",
        "colab": {
          "base_uri": "https://localhost:8080/"
        }
      },
      "outputs": [
        {
          "output_type": "execute_result",
          "data": {
            "text/plain": [
              "['banana', 10, 1.2]"
            ]
          },
          "metadata": {},
          "execution_count": 12
        }
      ],
      "source": [
        "# Clone (clone by value) the list A\n",
        "\n",
        "B = A[:]\n",
        "B"
      ]
    },
    {
      "cell_type": "markdown",
      "metadata": {
        "id": "1xXSBBBxE4Gm"
      },
      "source": [
        "Variable **B** references a new copy or clone of the original list. This is demonstrated in the following figure:\n"
      ]
    },
    {
      "cell_type": "markdown",
      "metadata": {
        "id": "HoHkgfmRE4Gm"
      },
      "source": [
        "<img src=\"https://cf-courses-data.s3.us.cloud-object-storage.appdomain.cloud/IBMDeveloperSkillsNetwork-PY0101EN-SkillsNetwork/labs/Module%202/images/ListsVal.gif\" width=\"1000\" />\n"
      ]
    },
    {
      "cell_type": "markdown",
      "metadata": {
        "id": "z-xOLYXQE4Gm"
      },
      "source": [
        "Now if you change <b>A</b>, <b>B</b> will not change:\n"
      ]
    },
    {
      "cell_type": "code",
      "execution_count": null,
      "metadata": {
        "id": "kbOSK9NCE4Gn",
        "outputId": "1cc9f272-d3df-4856-d6bf-9b183704e3bd",
        "colab": {
          "base_uri": "https://localhost:8080/"
        }
      },
      "outputs": [
        {
          "output_type": "stream",
          "name": "stdout",
          "text": [
            "B[0]: banana\n",
            "B[0]: banana\n"
          ]
        }
      ],
      "source": [
        "print('B[0]:', B[0])\n",
        "A[0] = \"hard rock\"\n",
        "print('B[0]:', B[0])"
      ]
    },
    {
      "cell_type": "markdown",
      "metadata": {
        "id": "gb7sX6mQE4Gn"
      },
      "source": [
        "<h2 id=\"quiz\">Quiz on List</h2>\n"
      ]
    },
    {
      "cell_type": "markdown",
      "metadata": {
        "id": "F4i0XnVfE4Gn"
      },
      "source": [
        "Create a list <code>a_list</code>, with the following elements <code>1</code>, <code>hello</code>, <code>\\[1,2,3]</code> and <code>True</code>.\n"
      ]
    },
    {
      "cell_type": "code",
      "execution_count": null,
      "metadata": {
        "id": "eZxq-LlcE4Go",
        "outputId": "db3ab884-9a32-485e-c04e-6f26575fc8da",
        "colab": {
          "base_uri": "https://localhost:8080/"
        }
      },
      "outputs": [
        {
          "output_type": "execute_result",
          "data": {
            "text/plain": [
              "[1, 'hello', [1, 2, 3], True]"
            ]
          },
          "metadata": {},
          "execution_count": 21
        }
      ],
      "source": [
        "# Write your code below and press Shift+Enter to execute\n",
        "a_list = [1, 'hello', [1,2,3], True]\n",
        "a_list"
      ]
    },
    {
      "cell_type": "markdown",
      "metadata": {
        "id": "_2B2OdvDE4Go"
      },
      "source": [
        "<details><summary>Click here for the solution</summary>\n",
        "\n",
        "```python\n",
        "a_list = [1, 'hello', [1, 2, 3] , True]\n",
        "a_list\n",
        "\n",
        "```\n",
        "\n",
        "</details>\n"
      ]
    },
    {
      "cell_type": "markdown",
      "metadata": {
        "id": "kItRxViME4Gp"
      },
      "source": [
        "Find the value stored at index 1 of <code>a_list</code>.\n"
      ]
    },
    {
      "cell_type": "code",
      "execution_count": null,
      "metadata": {
        "id": "t99zxKDBE4Gp",
        "outputId": "ae3c2225-c370-43dc-efc9-8ef395ed0f17",
        "colab": {
          "base_uri": "https://localhost:8080/",
          "height": 36
        }
      },
      "outputs": [
        {
          "output_type": "execute_result",
          "data": {
            "text/plain": [
              "'hello'"
            ],
            "application/vnd.google.colaboratory.intrinsic+json": {
              "type": "string"
            }
          },
          "metadata": {},
          "execution_count": 22
        }
      ],
      "source": [
        "# Write your code below and press Shift+Enter to execute\n",
        "a_list[1]\n"
      ]
    },
    {
      "cell_type": "markdown",
      "metadata": {
        "id": "QcbdPszFE4Gp"
      },
      "source": [
        "<details><summary>Click here for the solution</summary>\n",
        "\n",
        "```python\n",
        "a_list[1]\n",
        "\n",
        "```\n",
        "\n",
        "</details>\n"
      ]
    },
    {
      "cell_type": "markdown",
      "metadata": {
        "id": "Y8Dp72mDE4Gq"
      },
      "source": [
        "Retrieve the elements stored at index 1, 2 and 3 of <code>a_list</code>.\n"
      ]
    },
    {
      "cell_type": "code",
      "execution_count": null,
      "metadata": {
        "id": "DG9RnpryE4Gq",
        "outputId": "6aae91dc-8d8e-46c4-8f0d-26d43ba039d1",
        "colab": {
          "base_uri": "https://localhost:8080/"
        }
      },
      "outputs": [
        {
          "output_type": "execute_result",
          "data": {
            "text/plain": [
              "['hello', [1, 2, 3], True]"
            ]
          },
          "metadata": {},
          "execution_count": 23
        }
      ],
      "source": [
        "# Write your code below and press Shift+Enter to execute\n",
        "a_list[1:4]"
      ]
    },
    {
      "cell_type": "markdown",
      "metadata": {
        "id": "9iBUQ_ENE4Gr"
      },
      "source": [
        "<details><summary>Click here for the solution</summary>\n",
        "\n",
        "```python\n",
        "a_list[1:4]\n",
        "\n",
        "```\n",
        "\n",
        "</details>\n"
      ]
    },
    {
      "cell_type": "markdown",
      "metadata": {
        "id": "vICxQ7mKE4Gr"
      },
      "source": [
        "Concatenate the following lists <code>A = \\[1, 'a']</code> and <code>B = \\[2, 1, 'd']</code>:\n"
      ]
    },
    {
      "cell_type": "code",
      "execution_count": null,
      "metadata": {
        "collapsed": true,
        "id": "NvHLK9NEE4Gr",
        "outputId": "f13f3329-316e-4fe2-dbbf-52f34997f3d4",
        "colab": {
          "base_uri": "https://localhost:8080/"
        }
      },
      "outputs": [
        {
          "output_type": "execute_result",
          "data": {
            "text/plain": [
              "[1, 'a', 2, 1, 'd']"
            ]
          },
          "metadata": {},
          "execution_count": 24
        }
      ],
      "source": [
        "# Write your code below and press Shift+Enter to execute\n",
        "A = [1, 'a'] \n",
        "B = [2, 1, 'd']\n",
        "A + B"
      ]
    },
    {
      "cell_type": "markdown",
      "metadata": {
        "id": "vVH1cQUPE4Gs"
      },
      "source": [
        "<details><summary>Click here for the solution</summary>\n",
        "\n",
        "```python\n",
        "A = [1, 'a'] \n",
        "B = [2, 1, 'd']\n",
        "A + B\n",
        "\n",
        "```\n",
        "\n",
        "</details>\n"
      ]
    },
    {
      "cell_type": "markdown",
      "metadata": {
        "id": "pvSSRSGZE4Gt"
      },
      "source": [
        "<hr>\n",
        "<h2>The last exercise!</h2>\n",
        "<p>Congratulations, you have completed your first lesson and hands-on lab in Python. \n",
        "<hr>\n"
      ]
    },
    {
      "cell_type": "markdown",
      "metadata": {
        "id": "YTvmSt-xE4Gt"
      },
      "source": [
        "## Author\n",
        "\n",
        "<a href=\"https://www.linkedin.com/in/joseph-s-50398b136/?utm_medium=Exinfluencer&utm_source=Exinfluencer&utm_content=000026UJ&utm_term=10006555&utm_id=NA-SkillsNetwork-Channel-SkillsNetworkCoursesIBMDeveloperSkillsNetworkPY0101ENSkillsNetwork19487395-2022-01-01\" target=\"_blank\">Joseph Santarcangelo</a>\n",
        "\n",
        "## Other contributors\n",
        "\n",
        "<a href=\"https://www.linkedin.com/in/jiahui-mavis-zhou-a4537814a?utm_medium=Exinfluencer&utm_source=Exinfluencer&utm_content=000026UJ&utm_term=10006555&utm_id=NA-SkillsNetwork-Channel-SkillsNetworkCoursesIBMDeveloperSkillsNetworkPY0101ENSkillsNetwork19487395-2022-01-01\">Mavis Zhou</a>\n",
        "\n",
        "## Change Log\n",
        "\n",
        "| Date (YYYY-MM-DD) | Version | Changed By | Change Description                 |\n",
        "| ----------------- | ------- | ---------- | ---------------------------------- |\n",
        "| 2022-01-10        | 2.1     | Malika     | Removed the readme for GitShare    |\n",
        "| 2020-08-26        | 2.0     | Lavanya    | Moved lab to course repo in GitLab |\n",
        "|                   |         |            |                                    |\n",
        "|                   |         |            |                                    |\n",
        "\n",
        "## <h3 align=\"center\"> © IBM Corporation 2020. All rights reserved. <h3/>\n"
      ]
    }
  ],
  "metadata": {
    "kernelspec": {
      "display_name": "Python 3",
      "language": "python",
      "name": "python3"
    },
    "language_info": {
      "codemirror_mode": {
        "name": "ipython",
        "version": 3
      },
      "file_extension": ".py",
      "mimetype": "text/x-python",
      "name": "python",
      "nbconvert_exporter": "python",
      "pygments_lexer": "ipython3",
      "version": "3.7.6"
    },
    "colab": {
      "name": "Copia de PY0101EN-2-2-Lists.ipynb",
      "provenance": [],
      "include_colab_link": true
    }
  },
  "nbformat": 4,
  "nbformat_minor": 0
}