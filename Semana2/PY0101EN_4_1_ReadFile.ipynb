{
  "cells": [
    {
      "cell_type": "markdown",
      "metadata": {
        "id": "view-in-github",
        "colab_type": "text"
      },
      "source": [
        "<a href=\"https://colab.research.google.com/github/cavelasco93686/proganaliticadatos/blob/main/Semana2/PY0101EN_4_1_ReadFile.ipynb\" target=\"_parent\"><img src=\"https://colab.research.google.com/assets/colab-badge.svg\" alt=\"Open In Colab\"/></a>"
      ]
    },
    {
      "cell_type": "markdown",
      "metadata": {
        "id": "71dcKIDqdqJv"
      },
      "source": [
        "<p style=\"text-align:center\">\n",
        "    <a href=\"https://skills.network/?utm_medium=Exinfluencer&utm_source=Exinfluencer&utm_content=000026UJ&utm_term=10006555&utm_id=NA-SkillsNetwork-Channel-SkillsNetworkCoursesIBMDeveloperSkillsNetworkPY0101ENSkillsNetwork19487395-2022-01-01\" target=\"_blank\">\n",
        "    <img src=\"https://cf-courses-data.s3.us.cloud-object-storage.appdomain.cloud/assets/logos/SN_web_lightmode.png\" width=\"200\" alt=\"Skills Network Logo\"  />\n",
        "    </a>\n",
        "</p>\n",
        "\n",
        "# Reading Files Python\n",
        "\n",
        "Estimated time needed: **40** minutes\n",
        "\n",
        "## Objectives\n",
        "\n",
        "After completing this lab you will be able to:\n",
        "\n",
        "*   Read text files using Python libraries\n"
      ]
    },
    {
      "cell_type": "markdown",
      "metadata": {
        "id": "QMFmA0GgdqJ1"
      },
      "source": [
        "<h2>Table of Contents</h2>\n",
        "<div class=\"alert alert-block alert-info\" style=\"margin-top: 20px\">\n",
        "    <ul>\n",
        "        <li><a href=\"https://download/?utm_medium=Exinfluencer&utm_source=Exinfluencer&utm_content=000026UJ&utm_term=10006555&utm_id=NA-SkillsNetwork-Channel-SkillsNetworkCoursesIBMDeveloperSkillsNetworkPY0101ENSkillsNetwork19487395-2022-01-01\">Download Data</a></li>\n",
        "        <li><a href=\"https://read/?utm_medium=Exinfluencer&utm_source=Exinfluencer&utm_content=000026UJ&utm_term=10006555&utm_id=NA-SkillsNetwork-Channel-SkillsNetworkCoursesIBMDeveloperSkillsNetworkPY0101ENSkillsNetwork19487395-2022-01-01\">Reading Text Files</a></li>\n",
        "        <li><a href=\"https://better/?utm_medium=Exinfluencer&utm_source=Exinfluencer&utm_content=000026UJ&utm_term=10006555&utm_id=NA-SkillsNetwork-Channel-SkillsNetworkCoursesIBMDeveloperSkillsNetworkPY0101ENSkillsNetwork19487395-2022-01-01\">A Better Way to Open a File</a></li>\n",
        "    </ul>\n",
        "\n",
        "</div>\n",
        "\n",
        "<hr>\n"
      ]
    },
    {
      "cell_type": "markdown",
      "metadata": {
        "id": "WLBjMjRDdqJ2"
      },
      "source": [
        "<h2 id=\"download\">Download Data</h2>\n"
      ]
    },
    {
      "cell_type": "code",
      "execution_count": 2,
      "metadata": {
        "id": "iLgpbQA-dqJ3",
        "outputId": "052f776f-0e6d-4463-8641-3f08b3d1bbb1",
        "colab": {
          "base_uri": "https://localhost:8080/"
        }
      },
      "outputs": [
        {
          "output_type": "execute_result",
          "data": {
            "text/plain": [
              "('Example1.txt', <http.client.HTTPMessage at 0x7f3a2a83f790>)"
            ]
          },
          "metadata": {},
          "execution_count": 2
        }
      ],
      "source": [
        "import urllib.request\n",
        "url = 'https://cf-courses-data.s3.us.cloud-object-storage.appdomain.cloud/IBMDeveloperSkillsNetwork-PY0101EN-SkillsNetwork/labs/Module%204/data/example1.txt'\n",
        "filename = 'Example1.txt'\n",
        "urllib.request.urlretrieve(url, filename)"
      ]
    },
    {
      "cell_type": "code",
      "execution_count": 3,
      "metadata": {
        "id": "t9eViosbdqJ5",
        "outputId": "2c110767-9200-4c83-e4cb-237183721bc3",
        "colab": {
          "base_uri": "https://localhost:8080/"
        }
      },
      "outputs": [
        {
          "output_type": "stream",
          "name": "stdout",
          "text": [
            "/resources/data/Example1.txt: No such file or directory\n"
          ]
        }
      ],
      "source": [
        "# Download Example file\n",
        "\n",
        "\n",
        "!wget -O /resources/data/Example1.txt https://cf-courses-data.s3.us.cloud-object-storage.appdomain.cloud/IBMDeveloperSkillsNetwork-PY0101EN-SkillsNetwork/labs/Module%204/data/example1.txt"
      ]
    },
    {
      "cell_type": "markdown",
      "metadata": {
        "id": "GI3rsHZMdqJ5"
      },
      "source": [
        "<hr>\n"
      ]
    },
    {
      "cell_type": "markdown",
      "metadata": {
        "id": "jhYjfM-SdqJ6"
      },
      "source": [
        "<h2 id=\"read\">Reading Text Files</h2>\n"
      ]
    },
    {
      "cell_type": "markdown",
      "metadata": {
        "id": "EWWZGdfydqJ7"
      },
      "source": [
        "One way to read or write a file in Python is to use the built-in <code>open</code> function. The <code>open</code> function provides a **File object** that contains the methods and attributes you need in order to read, save, and manipulate the file. In this notebook, we will only cover **.txt** files. The first parameter you need is the file path and the file name. An example is shown as follow:\n"
      ]
    },
    {
      "cell_type": "markdown",
      "metadata": {
        "id": "hXPWskS3dqJ8"
      },
      "source": [
        "<img src=\"https://cf-courses-data.s3.us.cloud-object-storage.appdomain.cloud/IBMDeveloperSkillsNetwork-PY0101EN-SkillsNetwork/labs/Module%204/images/ReadOpen.png\" width=\"500\" />\n"
      ]
    },
    {
      "cell_type": "markdown",
      "metadata": {
        "id": "JabCm3G3dqJ8"
      },
      "source": [
        "The mode argument is optional and the default value is **r**. In this notebook we only cover two modes:\n",
        "\n",
        "<ul>\n",
        "    <li>**r**: Read mode for reading files </li>\n",
        "    <li>**w**: Write mode for writing files</li>\n",
        "</ul>\n"
      ]
    },
    {
      "cell_type": "markdown",
      "metadata": {
        "id": "VKeg0G1zdqJ-"
      },
      "source": [
        "For the next example, we will use the text file **Example1.txt**. The file is shown as follows:\n"
      ]
    },
    {
      "cell_type": "markdown",
      "metadata": {
        "id": "yWlCYFR5dqJ_"
      },
      "source": [
        "<img src=\"https://cf-courses-data.s3.us.cloud-object-storage.appdomain.cloud/IBMDeveloperSkillsNetwork-PY0101EN-SkillsNetwork/labs/Module%204/images/ReadFile.png\" width=\"100\" />\n"
      ]
    },
    {
      "cell_type": "markdown",
      "metadata": {
        "id": "n5dqLH4idqKA"
      },
      "source": [
        "We read the file:\n"
      ]
    },
    {
      "cell_type": "code",
      "execution_count": 5,
      "metadata": {
        "id": "YNTloWfcdqKA"
      },
      "outputs": [],
      "source": [
        "# Read the Example1.txt\n",
        "\n",
        "example1 = \"Example1.txt\"\n",
        "file1 = open(example1, \"r\")"
      ]
    },
    {
      "cell_type": "markdown",
      "metadata": {
        "id": "_qSPKWw_dqKB"
      },
      "source": [
        "We can view the attributes of the file.\n"
      ]
    },
    {
      "cell_type": "markdown",
      "metadata": {
        "id": "kG_MlprgdqKB"
      },
      "source": [
        "The name of the file:\n"
      ]
    },
    {
      "cell_type": "code",
      "execution_count": 6,
      "metadata": {
        "id": "bM0P_bNFdqKC",
        "outputId": "3b8ec8cf-152c-47da-8d85-f0a29bde26ed",
        "colab": {
          "base_uri": "https://localhost:8080/",
          "height": 35
        }
      },
      "outputs": [
        {
          "output_type": "execute_result",
          "data": {
            "text/plain": [
              "'Example1.txt'"
            ],
            "application/vnd.google.colaboratory.intrinsic+json": {
              "type": "string"
            }
          },
          "metadata": {},
          "execution_count": 6
        }
      ],
      "source": [
        "# Print the path of file\n",
        "\n",
        "file1.name"
      ]
    },
    {
      "cell_type": "markdown",
      "metadata": {
        "id": "6DjKzsF8dqKC"
      },
      "source": [
        "The mode the file object is in:\n"
      ]
    },
    {
      "cell_type": "code",
      "execution_count": 7,
      "metadata": {
        "id": "9X7pz1O_dqKC",
        "outputId": "4ec1042d-11a6-498b-a73a-3f7974ae2710",
        "colab": {
          "base_uri": "https://localhost:8080/",
          "height": 35
        }
      },
      "outputs": [
        {
          "output_type": "execute_result",
          "data": {
            "text/plain": [
              "'r'"
            ],
            "application/vnd.google.colaboratory.intrinsic+json": {
              "type": "string"
            }
          },
          "metadata": {},
          "execution_count": 7
        }
      ],
      "source": [
        "# Print the mode of file, either 'r' or 'w'\n",
        "\n",
        "file1.mode"
      ]
    },
    {
      "cell_type": "markdown",
      "metadata": {
        "id": "GFi8NWvLdqKD"
      },
      "source": [
        "We can read the file and assign it to a variable :\n"
      ]
    },
    {
      "cell_type": "code",
      "execution_count": 8,
      "metadata": {
        "id": "jKQ4KsDQdqKE",
        "outputId": "8e07e2f8-4c34-4fca-cf89-eefc97be3d9e",
        "colab": {
          "base_uri": "https://localhost:8080/",
          "height": 35
        }
      },
      "outputs": [
        {
          "output_type": "execute_result",
          "data": {
            "text/plain": [
              "'This is line 1 \\nThis is line 2\\nThis is line 3'"
            ],
            "application/vnd.google.colaboratory.intrinsic+json": {
              "type": "string"
            }
          },
          "metadata": {},
          "execution_count": 8
        }
      ],
      "source": [
        "# Read the file\n",
        "\n",
        "FileContent = file1.read()\n",
        "FileContent"
      ]
    },
    {
      "cell_type": "markdown",
      "metadata": {
        "id": "G-afBIHXdqKE"
      },
      "source": [
        "The **/n** means that there is a new line.\n"
      ]
    },
    {
      "cell_type": "markdown",
      "metadata": {
        "id": "-REMsRhGdqKF"
      },
      "source": [
        "We can print the file:\n"
      ]
    },
    {
      "cell_type": "code",
      "execution_count": 9,
      "metadata": {
        "id": "RwIOdNV5dqKG",
        "outputId": "3534b7ae-1048-45b7-a068-969da10c6b92",
        "colab": {
          "base_uri": "https://localhost:8080/"
        }
      },
      "outputs": [
        {
          "output_type": "stream",
          "name": "stdout",
          "text": [
            "This is line 1 \n",
            "This is line 2\n",
            "This is line 3\n"
          ]
        }
      ],
      "source": [
        "# Print the file with '\\n' as a new line\n",
        "\n",
        "print(FileContent)"
      ]
    },
    {
      "cell_type": "markdown",
      "metadata": {
        "id": "7HC4cY1XdqKG"
      },
      "source": [
        "The file is of type string:\n"
      ]
    },
    {
      "cell_type": "code",
      "execution_count": 10,
      "metadata": {
        "id": "XVVFu9KadqKH",
        "outputId": "bd8c0ef8-b79b-478e-aac6-af3c9e6c62d5",
        "colab": {
          "base_uri": "https://localhost:8080/"
        }
      },
      "outputs": [
        {
          "output_type": "execute_result",
          "data": {
            "text/plain": [
              "str"
            ]
          },
          "metadata": {},
          "execution_count": 10
        }
      ],
      "source": [
        "# Type of file content\n",
        "\n",
        "type(FileContent)"
      ]
    },
    {
      "cell_type": "markdown",
      "metadata": {
        "id": "B1G5k4WidqKH"
      },
      "source": [
        "It is very important that the file is closed in the end. This frees up resources and ensures consistency across different python versions.\n"
      ]
    },
    {
      "cell_type": "code",
      "execution_count": 11,
      "metadata": {
        "id": "0IEhsl3kdqKI"
      },
      "outputs": [],
      "source": [
        "# Close file after finish\n",
        "\n",
        "file1.close()"
      ]
    },
    {
      "cell_type": "markdown",
      "metadata": {
        "id": "EXWgdOQMdqKI"
      },
      "source": [
        "<hr>\n"
      ]
    },
    {
      "cell_type": "markdown",
      "metadata": {
        "id": "XGwPF0zRdqKJ"
      },
      "source": [
        "<h2 id=\"better\">A Better Way to Open a File</h2>\n"
      ]
    },
    {
      "cell_type": "markdown",
      "metadata": {
        "id": "lURg9ZMmdqKJ"
      },
      "source": [
        "Using the <code>with</code> statement is better practice, it automatically closes the file even if the code encounters an exception. The code will run everything in the indent block then close the file object.\n"
      ]
    },
    {
      "cell_type": "code",
      "execution_count": 12,
      "metadata": {
        "id": "Xr8pa2XMdqKK",
        "outputId": "3f91701a-3868-4892-fe49-75225c878f34",
        "colab": {
          "base_uri": "https://localhost:8080/"
        }
      },
      "outputs": [
        {
          "output_type": "stream",
          "name": "stdout",
          "text": [
            "This is line 1 \n",
            "This is line 2\n",
            "This is line 3\n"
          ]
        }
      ],
      "source": [
        "# Open file using with\n",
        "\n",
        "with open(example1, \"r\") as file1:\n",
        "    FileContent = file1.read()\n",
        "    print(FileContent)"
      ]
    },
    {
      "cell_type": "markdown",
      "metadata": {
        "id": "YuBkyK1rdqKK"
      },
      "source": [
        "The file object is closed, you can verify it by running the following cell:\n"
      ]
    },
    {
      "cell_type": "code",
      "execution_count": 13,
      "metadata": {
        "id": "SHeew2PIdqKK",
        "outputId": "8d10a086-8fb5-4313-a2b7-a55f42742c50",
        "colab": {
          "base_uri": "https://localhost:8080/"
        }
      },
      "outputs": [
        {
          "output_type": "execute_result",
          "data": {
            "text/plain": [
              "True"
            ]
          },
          "metadata": {},
          "execution_count": 13
        }
      ],
      "source": [
        "# Verify if the file is closed\n",
        "\n",
        "file1.closed"
      ]
    },
    {
      "cell_type": "markdown",
      "metadata": {
        "id": "W9HLLnlIdqKL"
      },
      "source": [
        "We can see the info in the file:\n"
      ]
    },
    {
      "cell_type": "code",
      "execution_count": 14,
      "metadata": {
        "id": "PYeUtQXqdqKL",
        "outputId": "d25faa17-4bbe-4d7e-b86e-dabf73018e67",
        "colab": {
          "base_uri": "https://localhost:8080/"
        }
      },
      "outputs": [
        {
          "output_type": "stream",
          "name": "stdout",
          "text": [
            "This is line 1 \n",
            "This is line 2\n",
            "This is line 3\n"
          ]
        }
      ],
      "source": [
        "# See the content of file\n",
        "\n",
        "print(FileContent)"
      ]
    },
    {
      "cell_type": "markdown",
      "metadata": {
        "id": "QJrWZa-udqKM"
      },
      "source": [
        "The syntax is a little confusing as the file object is after the <code>as</code> statement. We also don’t explicitly close the file. Therefore we summarize the steps in a figure:\n"
      ]
    },
    {
      "cell_type": "markdown",
      "metadata": {
        "id": "HrxtphqadqKN"
      },
      "source": [
        "<img src=\"https://cf-courses-data.s3.us.cloud-object-storage.appdomain.cloud/IBMDeveloperSkillsNetwork-PY0101EN-SkillsNetwork/labs/Module%204/images/ReadWith.png\" width=\"500\" />\n"
      ]
    },
    {
      "cell_type": "markdown",
      "metadata": {
        "id": "hnAZ9FZ0dqKN"
      },
      "source": [
        "We don’t have to read the entire file, for example, we can read the first 4 characters by entering three as a parameter to the method **.read()**:\n"
      ]
    },
    {
      "cell_type": "code",
      "execution_count": 15,
      "metadata": {
        "id": "rdGHjkomdqKO",
        "outputId": "9911a36a-e6ea-42c4-9954-8de9e39e3e41",
        "colab": {
          "base_uri": "https://localhost:8080/"
        }
      },
      "outputs": [
        {
          "output_type": "stream",
          "name": "stdout",
          "text": [
            "This\n"
          ]
        }
      ],
      "source": [
        "# Read first four characters\n",
        "\n",
        "with open(example1, \"r\") as file1:\n",
        "    print(file1.read(4))"
      ]
    },
    {
      "cell_type": "markdown",
      "metadata": {
        "id": "KtwEMURfdqKP"
      },
      "source": [
        "Once the method <code>.read(4)</code> is called the first 4 characters are called. If we call the method again, the next 4 characters are called. The output for the following cell will demonstrate the process for different inputs to the method <code>read()</code>:\n"
      ]
    },
    {
      "cell_type": "code",
      "execution_count": 16,
      "metadata": {
        "id": "8iBL3WyKdqKQ",
        "outputId": "d75595ba-970a-4e1c-9240-019b669c7026",
        "colab": {
          "base_uri": "https://localhost:8080/"
        }
      },
      "outputs": [
        {
          "output_type": "stream",
          "name": "stdout",
          "text": [
            "This\n",
            " is \n",
            "line 1 \n",
            "\n",
            "This is line 2\n"
          ]
        }
      ],
      "source": [
        "# Read certain amount of characters\n",
        "\n",
        "with open(example1, \"r\") as file1:\n",
        "    print(file1.read(4))\n",
        "    print(file1.read(4))\n",
        "    print(file1.read(7))\n",
        "    print(file1.read(15))"
      ]
    },
    {
      "cell_type": "markdown",
      "metadata": {
        "id": "6vpn8GN4dqKQ"
      },
      "source": [
        "The process is illustrated in the below figure, and each color represents the part of the file read after the method <code>read()</code> is called:\n"
      ]
    },
    {
      "cell_type": "markdown",
      "metadata": {
        "id": "Hi8kQ0KcdqKQ"
      },
      "source": [
        "<img src=\"https://cf-courses-data.s3.us.cloud-object-storage.appdomain.cloud/IBMDeveloperSkillsNetwork-PY0101EN-SkillsNetwork/labs/Module%204/images/read.png\" width=\"500\" />\n"
      ]
    },
    {
      "cell_type": "markdown",
      "metadata": {
        "id": "i9sJKoIsdqKR"
      },
      "source": [
        "Here is an example using the same file, but instead we read 16, 5, and then 9 characters at a time:\n"
      ]
    },
    {
      "cell_type": "code",
      "execution_count": 17,
      "metadata": {
        "id": "3HMznrnBdqKR",
        "outputId": "3c7267ed-a0c2-4328-fbaf-38a54b5efb79",
        "colab": {
          "base_uri": "https://localhost:8080/"
        }
      },
      "outputs": [
        {
          "output_type": "stream",
          "name": "stdout",
          "text": [
            "This is line 1 \n",
            "\n",
            "This \n",
            "is line 2\n"
          ]
        }
      ],
      "source": [
        "# Read certain amount of characters\n",
        "\n",
        "with open(example1, \"r\") as file1:\n",
        "    print(file1.read(16))\n",
        "    print(file1.read(5))\n",
        "    print(file1.read(9))"
      ]
    },
    {
      "cell_type": "markdown",
      "metadata": {
        "id": "65wpV145dqKR"
      },
      "source": [
        "We can also read one line of the file at a time using the method <code>readline()</code>:\n"
      ]
    },
    {
      "cell_type": "code",
      "execution_count": 18,
      "metadata": {
        "id": "lquqrZGVdqKR",
        "outputId": "0bd52db2-1100-4459-9a34-de369694f648",
        "colab": {
          "base_uri": "https://localhost:8080/"
        }
      },
      "outputs": [
        {
          "output_type": "stream",
          "name": "stdout",
          "text": [
            "first line: This is line 1 \n",
            "\n"
          ]
        }
      ],
      "source": [
        "# Read one line\n",
        "\n",
        "with open(example1, \"r\") as file1:\n",
        "    print(\"first line: \" + file1.readline())"
      ]
    },
    {
      "cell_type": "markdown",
      "metadata": {
        "id": "jCrTMTTCdqKS"
      },
      "source": [
        "We can also pass an argument to <code> readline() </code> to specify the number of charecters we want to read. However, unlike <code> read()</code>, <code> readline()</code> can only read one line at most.\n"
      ]
    },
    {
      "cell_type": "code",
      "execution_count": 19,
      "metadata": {
        "id": "6AsI1bOtdqKS",
        "outputId": "a4ae9b39-bf09-4087-fafe-2302e7de140d",
        "colab": {
          "base_uri": "https://localhost:8080/"
        }
      },
      "outputs": [
        {
          "output_type": "stream",
          "name": "stdout",
          "text": [
            "This is line 1 \n",
            "\n",
            "This is line 2\n",
            "This \n"
          ]
        }
      ],
      "source": [
        "with open(example1, \"r\") as file1:\n",
        "    print(file1.readline(20)) # does not read past the end of line\n",
        "    print(file1.read(20)) # Returns the next 20 chars\n"
      ]
    },
    {
      "cell_type": "markdown",
      "metadata": {
        "id": "a0rw7BC5dqKS"
      },
      "source": [
        "We can use a loop to iterate through each line:\n"
      ]
    },
    {
      "cell_type": "code",
      "execution_count": 20,
      "metadata": {
        "id": "wdmpbBAudqKS",
        "outputId": "3b0503fb-5b80-4563-da13-35667029b01f",
        "colab": {
          "base_uri": "https://localhost:8080/"
        }
      },
      "outputs": [
        {
          "output_type": "stream",
          "name": "stdout",
          "text": [
            "Iteration 0 :  This is line 1 \n",
            "\n",
            "Iteration 1 :  This is line 2\n",
            "\n",
            "Iteration 2 :  This is line 3\n"
          ]
        }
      ],
      "source": [
        "# Iterate through the lines\n",
        "\n",
        "with open(example1,\"r\") as file1:\n",
        "        i = 0;\n",
        "        for line in file1:\n",
        "            print(\"Iteration\", str(i), \": \", line)\n",
        "            i = i + 1"
      ]
    },
    {
      "cell_type": "markdown",
      "metadata": {
        "id": "anqfD-XsdqKS"
      },
      "source": [
        "We can use the method <code>readlines()</code> to save the text file to a list:\n"
      ]
    },
    {
      "cell_type": "code",
      "execution_count": 21,
      "metadata": {
        "id": "m4d0Rs_udqKT"
      },
      "outputs": [],
      "source": [
        "# Read all lines and save as a list\n",
        "\n",
        "with open(example1, \"r\") as file1:\n",
        "    FileasList = file1.readlines()"
      ]
    },
    {
      "cell_type": "markdown",
      "metadata": {
        "id": "0FVR9H0adqKT"
      },
      "source": [
        "Each element of the list corresponds to a line of text:\n"
      ]
    },
    {
      "cell_type": "code",
      "execution_count": 22,
      "metadata": {
        "id": "WT0_zL2hdqKT",
        "outputId": "335508fb-4d4d-42e0-8ff8-5c758dc9d897",
        "colab": {
          "base_uri": "https://localhost:8080/",
          "height": 35
        }
      },
      "outputs": [
        {
          "output_type": "execute_result",
          "data": {
            "text/plain": [
              "'This is line 1 \\n'"
            ],
            "application/vnd.google.colaboratory.intrinsic+json": {
              "type": "string"
            }
          },
          "metadata": {},
          "execution_count": 22
        }
      ],
      "source": [
        "# Print the first line\n",
        "\n",
        "FileasList[0]"
      ]
    },
    {
      "cell_type": "markdown",
      "metadata": {
        "id": "j9NhBp5FdqKT"
      },
      "source": [
        "# Print the second line\n",
        "\n",
        "FileasList\\[1]\n"
      ]
    },
    {
      "cell_type": "code",
      "execution_count": 23,
      "metadata": {
        "id": "CZY_3dDXdqKU",
        "outputId": "d039b67e-c578-4e85-cd41-28409977f8f8",
        "colab": {
          "base_uri": "https://localhost:8080/",
          "height": 35
        }
      },
      "outputs": [
        {
          "output_type": "execute_result",
          "data": {
            "text/plain": [
              "'This is line 3'"
            ],
            "application/vnd.google.colaboratory.intrinsic+json": {
              "type": "string"
            }
          },
          "metadata": {},
          "execution_count": 23
        }
      ],
      "source": [
        "# Print the third line\n",
        "\n",
        "FileasList[2]"
      ]
    },
    {
      "cell_type": "markdown",
      "metadata": {
        "id": "L9ZFQ-h1dqKU"
      },
      "source": [
        "<hr>\n",
        "<h2>The last exercise!</h2>\n",
        "<p>Congratulations, you have completed your first lesson and hands-on lab in Python.\n",
        "<hr>\n"
      ]
    },
    {
      "cell_type": "markdown",
      "metadata": {
        "id": "Qi3oV0awdqKU"
      },
      "source": [
        "## Author\n",
        "\n",
        "<a href=\"https://www.linkedin.com/in/joseph-s-50398b136/?utm_medium=Exinfluencer&utm_source=Exinfluencer&utm_content=000026UJ&utm_term=10006555&utm_id=NA-SkillsNetwork-Channel-SkillsNetworkCoursesIBMDeveloperSkillsNetworkPY0101ENSkillsNetwork19487395-2022-01-01\" target=\"_blank\">Joseph Santarcangelo</a>\n",
        "\n",
        "## Other contributors\n",
        "\n",
        "<a href=\"https://www.linkedin.com/in/jiahui-mavis-zhou-a4537814a?utm_medium=Exinfluencer&utm_source=Exinfluencer&utm_content=000026UJ&utm_term=10006555&utm_id=NA-SkillsNetwork-Channel-SkillsNetworkCoursesIBMDeveloperSkillsNetworkPY0101ENSkillsNetwork19487395-2022-01-01\">Mavis Zhou</a>\n",
        "\n",
        "## Change Log\n",
        "\n",
        "| Date (YYYY-MM-DD) | Version | Changed By    | Change Description                                        |\n",
        "| ----------------- | ------- | ------------- | --------------------------------------------------------- |\n",
        "| 2022-01-10        | 2.1     | Malika        | Removed the readme for GitShare                           |\n",
        "| 2020-09-30        | 1.3     | Malika        | Deleted exericse \"Weather Data\"                           |\n",
        "| 2020-09-30        | 1.2     | Malika Singla | Weather Data dataset link added                           |\n",
        "| 2020-09-30        | 1.1     | Arjun Swani   | Added exericse \"Weather Data\"                             |\n",
        "| 2020-09-30        | 1.0     | Arjun Swani   | Added blurbs about closing files and read() vs readline() |\n",
        "| 2020-08-26        | 0.2     | Lavanya       | Moved lab to course repo in GitLab                        |\n",
        "|                   |         |               |                                                           |\n",
        "|                   |         |               |                                                           |\n",
        "\n",
        "<hr/>\n",
        "\n",
        "## <h3 align=\"center\"> © IBM Corporation 2020. All rights reserved. <h3/>\n"
      ]
    }
  ],
  "metadata": {
    "kernelspec": {
      "display_name": "Python 3",
      "language": "python",
      "name": "python3"
    },
    "language_info": {
      "codemirror_mode": {
        "name": "ipython",
        "version": 3
      },
      "file_extension": ".py",
      "mimetype": "text/x-python",
      "name": "python",
      "nbconvert_exporter": "python",
      "pygments_lexer": "ipython3",
      "version": "3.7.6"
    },
    "colab": {
      "name": "PY0101EN-4-1-ReadFile.ipynb",
      "provenance": [],
      "include_colab_link": true
    }
  },
  "nbformat": 4,
  "nbformat_minor": 0
}