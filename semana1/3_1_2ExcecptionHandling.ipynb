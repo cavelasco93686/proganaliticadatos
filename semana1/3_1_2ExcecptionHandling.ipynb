{
  "cells": [
    {
      "cell_type": "markdown",
      "metadata": {
        "id": "view-in-github",
        "colab_type": "text"
      },
      "source": [
        "<a href=\"https://colab.research.google.com/github/cavelasco93686/proganaliticadatos/blob/main/semana1/3_1_2ExcecptionHandling.ipynb\" target=\"_parent\"><img src=\"https://colab.research.google.com/assets/colab-badge.svg\" alt=\"Open In Colab\"/></a>"
      ]
    },
    {
      "cell_type": "markdown",
      "metadata": {
        "id": "bt63V6TeUr9d"
      },
      "source": [
        "<p style=\"text-align:center\">\n",
        "    <a href=\"https://skills.network/?utm_medium=Exinfluencer&utm_source=Exinfluencer&utm_content=000026UJ&utm_term=10006555&utm_id=NA-SkillsNetwork-Channel-SkillsNetworkCoursesIBMDeveloperSkillsNetworkPY0101ENSkillsNetwork19487395-2022-01-01\" target=\"_blank\">\n",
        "    <img src=\"https://cf-courses-data.s3.us.cloud-object-storage.appdomain.cloud/assets/logos/SN_web_lightmode.png\" width=\"200\" alt=\"Skills Network Logo\"  />\n",
        "    </a>\n",
        "</p>\n"
      ]
    },
    {
      "cell_type": "markdown",
      "metadata": {
        "id": "hps98QWYUr9j"
      },
      "source": [
        "# **Exception Handling**\n",
        "\n",
        "Estimated time needed: **15** minutes\n",
        "\n",
        "## Objectives\n",
        "\n",
        "After completing this lab you will be able to:\n",
        "\n",
        "*   Understand exceptions\n",
        "*   Handle the exceptions\n"
      ]
    },
    {
      "cell_type": "markdown",
      "metadata": {
        "id": "NcvgWAdPUr9k"
      },
      "source": [
        "## Table of Contents\n"
      ]
    },
    {
      "cell_type": "markdown",
      "metadata": {
        "id": "3q8HypnVUr9l"
      },
      "source": [
        "*   What is an Exception?\n",
        "*   Exception Handling\n"
      ]
    },
    {
      "cell_type": "markdown",
      "metadata": {
        "id": "TNZPi-ZyUr9m"
      },
      "source": [
        "***\n"
      ]
    },
    {
      "cell_type": "markdown",
      "metadata": {
        "id": "hSFMsfdoUr9m"
      },
      "source": [
        "## What is an Exception?\n"
      ]
    },
    {
      "cell_type": "markdown",
      "metadata": {
        "id": "ktmMdvWSUr9n"
      },
      "source": [
        "In this section you will learn about what an exception is and see examples of them.\n"
      ]
    },
    {
      "cell_type": "markdown",
      "metadata": {
        "id": "pMi0JRBqUr9n"
      },
      "source": [
        "### Definition\n"
      ]
    },
    {
      "cell_type": "markdown",
      "metadata": {
        "id": "Z2wc94w5Ur9o"
      },
      "source": [
        "An exception is an error that occurs during the execution of code. This error causes the code to raise an exception and if not prepared to handle it will halt the execution of the code.\n"
      ]
    },
    {
      "cell_type": "markdown",
      "metadata": {
        "id": "ABnZzVMXUr9p"
      },
      "source": [
        "### Examples\n"
      ]
    },
    {
      "cell_type": "markdown",
      "metadata": {
        "id": "cRPbv_mTUr9q"
      },
      "source": [
        "Run each piece of code and observe the exception raised\n"
      ]
    },
    {
      "cell_type": "code",
      "execution_count": 2,
      "metadata": {
        "id": "o3Y9a1nNUr9r",
        "outputId": "e0c553ef-adc9-46cd-d242-f61456a97f98",
        "colab": {
          "base_uri": "https://localhost:8080/",
          "height": 172
        }
      },
      "outputs": [
        {
          "output_type": "error",
          "ename": "ZeroDivisionError",
          "evalue": "ignored",
          "traceback": [
            "\u001b[0;31m---------------------------------------------------------------------------\u001b[0m",
            "\u001b[0;31mZeroDivisionError\u001b[0m                         Traceback (most recent call last)",
            "\u001b[0;32m<ipython-input-2-9e1622b385b6>\u001b[0m in \u001b[0;36m<module>\u001b[0;34m\u001b[0m\n\u001b[0;32m----> 1\u001b[0;31m \u001b[0;36m1\u001b[0m\u001b[0;34m/\u001b[0m\u001b[0;36m0\u001b[0m\u001b[0;34m\u001b[0m\u001b[0;34m\u001b[0m\u001b[0m\n\u001b[0m",
            "\u001b[0;31mZeroDivisionError\u001b[0m: division by zero"
          ]
        }
      ],
      "source": [
        "1/0"
      ]
    },
    {
      "cell_type": "markdown",
      "metadata": {
        "id": "Wr44KAkaUr9s"
      },
      "source": [
        "<code>ZeroDivisionError</code> occurs when you try to divide by zero.\n"
      ]
    },
    {
      "cell_type": "code",
      "execution_count": 3,
      "metadata": {
        "id": "Yd8I28CkUr9s",
        "outputId": "07eb9935-de36-403d-810c-baf6564070d6",
        "colab": {
          "base_uri": "https://localhost:8080/",
          "height": 172
        }
      },
      "outputs": [
        {
          "output_type": "error",
          "ename": "NameError",
          "evalue": "ignored",
          "traceback": [
            "\u001b[0;31m---------------------------------------------------------------------------\u001b[0m",
            "\u001b[0;31mNameError\u001b[0m                                 Traceback (most recent call last)",
            "\u001b[0;32m<ipython-input-3-6ddcec040107>\u001b[0m in \u001b[0;36m<module>\u001b[0;34m\u001b[0m\n\u001b[0;32m----> 1\u001b[0;31m \u001b[0my\u001b[0m \u001b[0;34m=\u001b[0m \u001b[0ma\u001b[0m \u001b[0;34m+\u001b[0m \u001b[0;36m5\u001b[0m\u001b[0;34m\u001b[0m\u001b[0;34m\u001b[0m\u001b[0m\n\u001b[0m",
            "\u001b[0;31mNameError\u001b[0m: name 'a' is not defined"
          ]
        }
      ],
      "source": [
        "y = a + 5"
      ]
    },
    {
      "cell_type": "markdown",
      "metadata": {
        "id": "aJlQAFl-Ur9t"
      },
      "source": [
        "<code>NameError</code> -- in this case, it means that you tried to use the variable a when it was not defined.\n"
      ]
    },
    {
      "cell_type": "code",
      "execution_count": 4,
      "metadata": {
        "id": "4EOWqigYUr9t",
        "outputId": "a1b1a5fe-3216-47e8-d8a4-6b3fde8b1343",
        "colab": {
          "base_uri": "https://localhost:8080/",
          "height": 190
        }
      },
      "outputs": [
        {
          "output_type": "error",
          "ename": "IndexError",
          "evalue": "ignored",
          "traceback": [
            "\u001b[0;31m---------------------------------------------------------------------------\u001b[0m",
            "\u001b[0;31mIndexError\u001b[0m                                Traceback (most recent call last)",
            "\u001b[0;32m<ipython-input-4-3f911ca4e3d3>\u001b[0m in \u001b[0;36m<module>\u001b[0;34m\u001b[0m\n\u001b[1;32m      1\u001b[0m \u001b[0ma\u001b[0m \u001b[0;34m=\u001b[0m \u001b[0;34m[\u001b[0m\u001b[0;36m1\u001b[0m\u001b[0;34m,\u001b[0m \u001b[0;36m2\u001b[0m\u001b[0;34m,\u001b[0m \u001b[0;36m3\u001b[0m\u001b[0;34m]\u001b[0m\u001b[0;34m\u001b[0m\u001b[0;34m\u001b[0m\u001b[0m\n\u001b[0;32m----> 2\u001b[0;31m \u001b[0ma\u001b[0m\u001b[0;34m[\u001b[0m\u001b[0;36m10\u001b[0m\u001b[0;34m]\u001b[0m\u001b[0;34m\u001b[0m\u001b[0;34m\u001b[0m\u001b[0m\n\u001b[0m",
            "\u001b[0;31mIndexError\u001b[0m: list index out of range"
          ]
        }
      ],
      "source": [
        "a = [1, 2, 3]\n",
        "a[10]"
      ]
    },
    {
      "cell_type": "markdown",
      "metadata": {
        "id": "YgJd2sTiUr9u"
      },
      "source": [
        "<code>IndexError</code> -- in this case, it occured because you tried to access data from a list using an index that does not exist for this list.\n"
      ]
    },
    {
      "cell_type": "markdown",
      "metadata": {
        "id": "PakQEcFEUr9u"
      },
      "source": [
        "There are many more exceptions that are built into Python, here is a list of them [https://docs.python.org/3/library/exceptions.html](https://docs.python.org/3/library/exceptions.html?utm_medium=Exinfluencer&utm_source=Exinfluencer&utm_content=000026UJ&utm_term=10006555&utm_id=NA-SkillsNetwork-Channel-SkillsNetworkCoursesIBMDeveloperSkillsNetworkPY0101ENSkillsNetwork19487395-2022-01-01)\n"
      ]
    },
    {
      "cell_type": "markdown",
      "metadata": {
        "id": "OczH1ukMUr9u"
      },
      "source": [
        "## Exception Handling\n"
      ]
    },
    {
      "cell_type": "markdown",
      "metadata": {
        "id": "HhIXhSwBUr9u"
      },
      "source": [
        "In this section you will learn how to handle exceptions. You will understand how to make your program perform specified tasks instead of halting code execution when an exception is encountered.\n"
      ]
    },
    {
      "cell_type": "markdown",
      "metadata": {
        "id": "RZGdxsxwUr9v"
      },
      "source": [
        "### Try Except\n"
      ]
    },
    {
      "cell_type": "markdown",
      "metadata": {
        "id": "uRw45BFjUr9v"
      },
      "source": [
        "A <code>try except</code> will allow you to execute code that might raise an exception and in the case of any exception or a specific one we can handle or catch the exception and execute specific code. This will allow us to continue the execution of our program even if there is an exception.\n",
        "\n",
        "Python tries to execute the code in the <code>try</code> block. In this case if there is any exception raised by the code in the <code>try</code> block, it will be caught and the code block in the <code>except</code> block will be executed. After that, the code that comes <em>after</em> the try except will be executed.\n"
      ]
    },
    {
      "cell_type": "code",
      "execution_count": 5,
      "metadata": {
        "id": "zuIAaxd9Ur9v",
        "outputId": "bda7dc51-ccd8-4daa-d21f-f8f36c236819",
        "colab": {
          "base_uri": "https://localhost:8080/",
          "height": 135
        }
      },
      "outputs": [
        {
          "output_type": "error",
          "ename": "IndentationError",
          "evalue": "ignored",
          "traceback": [
            "\u001b[0;36m  File \u001b[0;32m\"<ipython-input-5-5647baae0eae>\"\u001b[0;36m, line \u001b[0;32m5\u001b[0m\n\u001b[0;31m    except:\u001b[0m\n\u001b[0m         ^\u001b[0m\n\u001b[0;31mIndentationError\u001b[0m\u001b[0;31m:\u001b[0m expected an indented block\n"
          ]
        }
      ],
      "source": [
        "# potential code before try catch\n",
        "\n",
        "try:\n",
        "    # code to try to execute\n",
        "except:\n",
        "    # code to execute if there is an exception\n",
        "    \n",
        "# code that will still execute if there is an exception"
      ]
    },
    {
      "cell_type": "markdown",
      "metadata": {
        "id": "zwhO9Rp9Ur9w"
      },
      "source": [
        "### Try Except Example\n"
      ]
    },
    {
      "cell_type": "markdown",
      "metadata": {
        "id": "FZdOz9ldUr9w"
      },
      "source": [
        "In this example we are trying to divide a number given by the user, save the outcome in the variable <code>a</code>, and then we would like to print the result of the operation. When taking user input and dividing a number by it there are a couple of exceptions that can be raised. For example if we divide by zero. Try running the following block of code with <code>b</code> as a number. An exception will only be raised if <code>b</code> is zero.\n"
      ]
    },
    {
      "cell_type": "code",
      "execution_count": null,
      "metadata": {
        "id": "SgoS3BoWUr9w"
      },
      "outputs": [],
      "source": [
        "a = 1\n",
        "\n",
        "try:\n",
        "    b = int(input(\"Please enter a number to divide a\"))\n",
        "    a = a/b\n",
        "    print(\"Success a=\",a)\n",
        "except:\n",
        "    print(\"There was an error\")\n",
        "        \n"
      ]
    },
    {
      "cell_type": "markdown",
      "metadata": {
        "id": "VJcL7ixUUr9x"
      },
      "source": [
        "### Try Except Specific\n"
      ]
    },
    {
      "cell_type": "markdown",
      "metadata": {
        "id": "Cq4Cu9BNUr9x"
      },
      "source": [
        "A specific <code>try except</code> allows you to catch certain exceptions and also execute certain code depending on the exception. This is useful if you do not want to deal with some exceptions and the execution should halt. It can also help you find errors in your code that you might not be aware of. Furthermore, it can help you differentiate responses to different exceptions. In this case, the code after the try except might not run depending on the error.\n"
      ]
    },
    {
      "cell_type": "markdown",
      "metadata": {
        "id": "fMZBr1ItUr9x"
      },
      "source": [
        "<b>Do not run, just to illustrate:</b>\n"
      ]
    },
    {
      "cell_type": "code",
      "execution_count": null,
      "metadata": {
        "id": "0qaLMCQyUr9x"
      },
      "outputs": [],
      "source": [
        "# potential code before try catch\n",
        "\n",
        "try:\n",
        "    # code to try to execute\n",
        "except (ZeroDivisionError, NameError):\n",
        "    # code to execute if there is an exception of the given types\n",
        "    \n",
        "# code that will execute if there is no exception or a one that we are handling"
      ]
    },
    {
      "cell_type": "code",
      "execution_count": null,
      "metadata": {
        "id": "DEd-LySkUr9y"
      },
      "outputs": [],
      "source": [
        "# potential code before try catch\n",
        "\n",
        "try:\n",
        "    # code to try to execute\n",
        "except ZeroDivisionError:\n",
        "    # code to execute if there is a ZeroDivisionError\n",
        "except NameError:\n",
        "    # code to execute if there is a NameError\n",
        "    \n",
        "# code that will execute if there is no exception or a one that we are handling"
      ]
    },
    {
      "cell_type": "markdown",
      "metadata": {
        "id": "JMvCNoHvUr9z"
      },
      "source": [
        "You can also have an empty <code>except</code> at the end to catch an unexpected exception:\n"
      ]
    },
    {
      "cell_type": "markdown",
      "metadata": {
        "id": "zE3tFXckUr9z"
      },
      "source": [
        "<b>Do not run, just to illustrate:</b>\n"
      ]
    },
    {
      "cell_type": "code",
      "execution_count": null,
      "metadata": {
        "id": "u71oZnRLUr9z"
      },
      "outputs": [],
      "source": [
        "# potential code before try catch\n",
        "\n",
        "try:\n",
        "    # code to try to execute\n",
        "except ZeroDivisionError:\n",
        "    # code to execute if there is a ZeroDivisionError\n",
        "except NameError:\n",
        "    # code to execute if there is a NameError\n",
        "except:\n",
        "    # code to execute if ther is any exception\n",
        "    \n",
        "# code that will execute if there is no exception or a one that we are handling"
      ]
    },
    {
      "cell_type": "markdown",
      "metadata": {
        "id": "bgZK0ruvUr90"
      },
      "source": [
        "### Try Except Specific Example\n"
      ]
    },
    {
      "cell_type": "markdown",
      "metadata": {
        "id": "iXXVqt0BUr90"
      },
      "source": [
        "This is the same example as above, but now we will add differentiated messages depending on the exception, letting the user know what is wrong with the input.\n"
      ]
    },
    {
      "cell_type": "code",
      "execution_count": null,
      "metadata": {
        "id": "N_EGF76CUr90"
      },
      "outputs": [],
      "source": [
        "a = 1\n",
        "\n",
        "try:\n",
        "    b = int(input(\"Please enter a number to divide a\"))\n",
        "    a = a/b\n",
        "    print(\"Success a=\",a)\n",
        "except ZeroDivisionError:\n",
        "    print(\"The number you provided cant divide 1 because it is 0\")\n",
        "except ValueError:\n",
        "    print(\"You did not provide a number\")\n",
        "except:\n",
        "    print(\"Something went wrong\")\n",
        "        \n"
      ]
    },
    {
      "cell_type": "markdown",
      "metadata": {
        "id": "AiSxm6soUr90"
      },
      "source": [
        "### Try Except Else and Finally\n"
      ]
    },
    {
      "cell_type": "markdown",
      "metadata": {
        "id": "9czyYIybUr91"
      },
      "source": [
        "<code>else</code> allows one to check if there was no exception when executing the try block. This is useful when we want to execute something only if there were no errors.\n"
      ]
    },
    {
      "cell_type": "markdown",
      "metadata": {
        "id": "jZRv1bERUr91"
      },
      "source": [
        "<b>do not run, just to illustrate</b>\n"
      ]
    },
    {
      "cell_type": "code",
      "execution_count": null,
      "metadata": {
        "id": "qBJnl71wUr91"
      },
      "outputs": [],
      "source": [
        "# potential code before try catch\n",
        "\n",
        "try:\n",
        "    # code to try to execute\n",
        "except ZeroDivisionError:\n",
        "    # code to execute if there is a ZeroDivisionError\n",
        "except NameError:\n",
        "    # code to execute if there is a NameError\n",
        "except:\n",
        "    # code to execute if ther is any exception\n",
        "else:\n",
        "    # code to execute if there is no exception\n",
        "    \n",
        "# code that will execute if there is no exception or a one that we are handling"
      ]
    },
    {
      "cell_type": "markdown",
      "metadata": {
        "id": "MW2mVgUyUr91"
      },
      "source": [
        "<code>finally</code> allows us to always execute something even if there is an exception or not. This is usually used to signify the end of the try except.\n"
      ]
    },
    {
      "cell_type": "code",
      "execution_count": null,
      "metadata": {
        "id": "YjS8GTh8Ur91"
      },
      "outputs": [],
      "source": [
        "# potential code before try catch\n",
        "\n",
        "try:\n",
        "    # code to try to execute\n",
        "except ZeroDivisionError:\n",
        "    # code to execute if there is a ZeroDivisionError\n",
        "except NameError:\n",
        "    # code to execute if there is a NameError\n",
        "except:\n",
        "    # code to execute if ther is any exception\n",
        "else:\n",
        "    # code to execute if there is no exception\n",
        "finally:\n",
        "    # code to execute at the end of the try except no matter what\n",
        "    \n",
        "# code that will execute if there is no exception or a one that we are handling"
      ]
    },
    {
      "cell_type": "markdown",
      "metadata": {
        "id": "JdZI_PBQUr92"
      },
      "source": [
        "### Try Except Else and Finally Example\n"
      ]
    },
    {
      "cell_type": "markdown",
      "metadata": {
        "id": "w8uP-vTuUr92"
      },
      "source": [
        "You might have noticed that even if there is an error the value of <code>a</code> is always printed. Let's use the <code>else</code> and print the value of <code>a</code> only if there is no error.\n"
      ]
    },
    {
      "cell_type": "code",
      "execution_count": null,
      "metadata": {
        "id": "2QkvHX8SUr92"
      },
      "outputs": [],
      "source": [
        "a = 1\n",
        "\n",
        "try:\n",
        "    b = int(input(\"Please enter a number to divide a\"))\n",
        "    a = a/b\n",
        "except ZeroDivisionError:\n",
        "    print(\"The number you provided cant divide 1 because it is 0\")\n",
        "except ValueError:\n",
        "    print(\"You did not provide a number\")\n",
        "except:\n",
        "    print(\"Something went wrong\")\n",
        "else:\n",
        "    print(\"success a=\",a)"
      ]
    },
    {
      "cell_type": "markdown",
      "metadata": {
        "id": "vKDLP996Ur92"
      },
      "source": [
        "Now lets let the user know that we are done processing their answer. Using the <code>finally</code>, let's add a print.\n"
      ]
    },
    {
      "cell_type": "code",
      "execution_count": null,
      "metadata": {
        "id": "-8th9ofFUr92"
      },
      "outputs": [],
      "source": [
        "a = 1\n",
        "\n",
        "try:\n",
        "    b = int(input(\"Please enter a number to divide a\"))\n",
        "    a = a/b\n",
        "except ZeroDivisionError:\n",
        "    print(\"The number you provided cant divide 1 because it is 0\")\n",
        "except ValueError:\n",
        "    print(\"You did not provide a number\")\n",
        "except:\n",
        "    print(\"Something went wrong\")\n",
        "else:\n",
        "    print(\"success a=\",a)\n",
        "finally:\n",
        "    print(\"Processing Complete\")"
      ]
    },
    {
      "cell_type": "markdown",
      "metadata": {
        "id": "LZ1Y8_kIUr93"
      },
      "source": [
        "## Authors\n"
      ]
    },
    {
      "cell_type": "markdown",
      "metadata": {
        "id": "_La9oLjvUr93"
      },
      "source": [
        "<a href=\"https://www.linkedin.com/in/joseph-s-50398b136/?utm_medium=Exinfluencer&utm_source=Exinfluencer&utm_content=000026UJ&utm_term=10006555&utm_id=NA-SkillsNetwork-Channel-SkillsNetworkCoursesIBMDeveloperSkillsNetworkPY0101ENSkillsNetwork19487395-2022-01-01\" target=\"_blank\">Joseph Santarcangelo</a>\n"
      ]
    },
    {
      "cell_type": "markdown",
      "metadata": {
        "id": "Asj4vFaWUr93"
      },
      "source": [
        "## Change Log\n",
        "\n",
        "| Date (YYYY-MM-DD) | Version | Changed By | Change Description           |\n",
        "| ----------------- | ------- | ---------- | ---------------------------- |\n",
        "| 2020-09-02        | 2.0     | Simran     | Template updates to the file |\n",
        "|                   |         |            |                              |\n",
        "|                   |         |            |                              |\n",
        "\n",
        "## <h3 align=\"center\"> © IBM Corporation 2020. All rights reserved. <h3/>\n"
      ]
    }
  ],
  "metadata": {
    "kernelspec": {
      "display_name": "Python 3",
      "language": "python",
      "name": "python3"
    },
    "language_info": {
      "codemirror_mode": {
        "name": "ipython",
        "version": 3
      },
      "file_extension": ".py",
      "mimetype": "text/x-python",
      "name": "python",
      "nbconvert_exporter": "python",
      "pygments_lexer": "ipython3",
      "version": "3.7.6"
    },
    "colab": {
      "name": "3-1.2ExcecptionHandling.ipynb",
      "provenance": [],
      "include_colab_link": true
    }
  },
  "nbformat": 4,
  "nbformat_minor": 0
}